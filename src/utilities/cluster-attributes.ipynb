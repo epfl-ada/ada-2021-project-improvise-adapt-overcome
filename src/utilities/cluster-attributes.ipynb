{
 "cells": [
  {
   "cell_type": "markdown",
   "id": "0ad3d249",
   "metadata": {},
   "source": [
    "# Aggregating some cluster attributes\n",
    "We want to obtain a cluster name, its top 10 websites and its top 10 speakers.\n",
    "#### Useful imports"
   ]
  },
  {
   "cell_type": "code",
   "execution_count": 1,
   "id": "d6fd489c",
   "metadata": {},
   "outputs": [],
   "source": [
    "import numpy as np\n",
    "import pandas as pd\n",
    "from collections import Counter"
   ]
  },
  {
   "cell_type": "markdown",
   "id": "4a0aaa71",
   "metadata": {},
   "source": [
    "### Load data"
   ]
  },
  {
   "cell_type": "code",
   "execution_count": 2,
   "id": "56a0dc7b",
   "metadata": {},
   "outputs": [],
   "source": [
    "CLEAN_QUOTES = '../../data/clean_quotes.csv.bz2'\n",
    "CLUSTERS = '../../data/clusters.csv.bz2'\n",
    "QUOTES_PATH = '../../data/quotes-2020.json.bz2'\n",
    "SPEAKERS_PATH = '../../data/speaker_attributes.parquet'"
   ]
  },
  {
   "cell_type": "markdown",
   "id": "b61a1aef",
   "metadata": {},
   "source": [
    "#### Quotes"
   ]
  },
  {
   "cell_type": "code",
   "execution_count": 3,
   "id": "78e61b62",
   "metadata": {
    "scrolled": true
   },
   "outputs": [
    {
     "data": {
      "text/html": [
       "<div>\n",
       "<style scoped>\n",
       "    .dataframe tbody tr th:only-of-type {\n",
       "        vertical-align: middle;\n",
       "    }\n",
       "\n",
       "    .dataframe tbody tr th {\n",
       "        vertical-align: top;\n",
       "    }\n",
       "\n",
       "    .dataframe thead th {\n",
       "        text-align: right;\n",
       "    }\n",
       "</style>\n",
       "<table border=\"1\" class=\"dataframe\">\n",
       "  <thead>\n",
       "    <tr style=\"text-align: right;\">\n",
       "      <th></th>\n",
       "      <th>quoteID</th>\n",
       "      <th>qids</th>\n",
       "      <th>journal</th>\n",
       "    </tr>\n",
       "  </thead>\n",
       "  <tbody>\n",
       "    <tr>\n",
       "      <th>0</th>\n",
       "      <td>2020-01-24-000168</td>\n",
       "      <td>Q20684375</td>\n",
       "      <td>people.com</td>\n",
       "    </tr>\n",
       "    <tr>\n",
       "      <th>3</th>\n",
       "      <td>2020-01-21-031706</td>\n",
       "      <td>Q20684375</td>\n",
       "      <td>people.com</td>\n",
       "    </tr>\n",
       "  </tbody>\n",
       "</table>\n",
       "</div>"
      ],
      "text/plain": [
       "             quoteID       qids     journal\n",
       "0  2020-01-24-000168  Q20684375  people.com\n",
       "3  2020-01-21-031706  Q20684375  people.com"
      ]
     },
     "execution_count": 3,
     "metadata": {},
     "output_type": "execute_result"
    }
   ],
   "source": [
    "clean_quotes = pd.read_csv(CLEAN_QUOTES).drop_duplicates()\n",
    "clean_quotes = clean_quotes[['quoteID', 'qids', 'journal']] # Do not need date column\n",
    "clean_quotes.head(2)"
   ]
  },
  {
   "cell_type": "code",
   "execution_count": 4,
   "id": "e96f1d20",
   "metadata": {},
   "outputs": [
    {
     "name": "stdout",
     "output_type": "stream",
     "text": [
      "Number of speakers: 40753\n"
     ]
    }
   ],
   "source": [
    "print(f'Number of speakers: {len(clean_quotes.qids.unique())}')"
   ]
  },
  {
   "cell_type": "markdown",
   "id": "283b7a42",
   "metadata": {},
   "source": [
    "#### Speaker attributes"
   ]
  },
  {
   "cell_type": "code",
   "execution_count": 5,
   "id": "1337e780",
   "metadata": {},
   "outputs": [
    {
     "data": {
      "text/html": [
       "<div>\n",
       "<style scoped>\n",
       "    .dataframe tbody tr th:only-of-type {\n",
       "        vertical-align: middle;\n",
       "    }\n",
       "\n",
       "    .dataframe tbody tr th {\n",
       "        vertical-align: top;\n",
       "    }\n",
       "\n",
       "    .dataframe thead th {\n",
       "        text-align: right;\n",
       "    }\n",
       "</style>\n",
       "<table border=\"1\" class=\"dataframe\">\n",
       "  <thead>\n",
       "    <tr style=\"text-align: right;\">\n",
       "      <th></th>\n",
       "      <th>aliases</th>\n",
       "      <th>date_of_birth</th>\n",
       "      <th>nationality</th>\n",
       "      <th>gender</th>\n",
       "      <th>lastrevid</th>\n",
       "      <th>ethnic_group</th>\n",
       "      <th>US_congress_bio_ID</th>\n",
       "      <th>occupation</th>\n",
       "      <th>party</th>\n",
       "      <th>academic_degree</th>\n",
       "      <th>id</th>\n",
       "      <th>label</th>\n",
       "      <th>candidacy</th>\n",
       "      <th>type</th>\n",
       "      <th>religion</th>\n",
       "    </tr>\n",
       "  </thead>\n",
       "  <tbody>\n",
       "    <tr>\n",
       "      <th>0</th>\n",
       "      <td>[Washington, President Washington, G. Washingt...</td>\n",
       "      <td>[+1732-02-22T00:00:00Z]</td>\n",
       "      <td>[Q161885, Q30]</td>\n",
       "      <td>[Q6581097]</td>\n",
       "      <td>1395141751</td>\n",
       "      <td>None</td>\n",
       "      <td>W000178</td>\n",
       "      <td>[Q82955, Q189290, Q131512, Q1734662, Q294126, ...</td>\n",
       "      <td>[Q327591]</td>\n",
       "      <td>None</td>\n",
       "      <td>Q23</td>\n",
       "      <td>George Washington</td>\n",
       "      <td>[Q698073, Q697949]</td>\n",
       "      <td>item</td>\n",
       "      <td>[Q682443]</td>\n",
       "    </tr>\n",
       "    <tr>\n",
       "      <th>1</th>\n",
       "      <td>[Douglas Noel Adams, Douglas Noël Adams, Dougl...</td>\n",
       "      <td>[+1952-03-11T00:00:00Z]</td>\n",
       "      <td>[Q145]</td>\n",
       "      <td>[Q6581097]</td>\n",
       "      <td>1395737157</td>\n",
       "      <td>[Q7994501]</td>\n",
       "      <td>None</td>\n",
       "      <td>[Q214917, Q28389, Q6625963, Q4853732, Q1884422...</td>\n",
       "      <td>None</td>\n",
       "      <td>None</td>\n",
       "      <td>Q42</td>\n",
       "      <td>Douglas Adams</td>\n",
       "      <td>None</td>\n",
       "      <td>item</td>\n",
       "      <td>None</td>\n",
       "    </tr>\n",
       "  </tbody>\n",
       "</table>\n",
       "</div>"
      ],
      "text/plain": [
       "                                             aliases            date_of_birth  \\\n",
       "0  [Washington, President Washington, G. Washingt...  [+1732-02-22T00:00:00Z]   \n",
       "1  [Douglas Noel Adams, Douglas Noël Adams, Dougl...  [+1952-03-11T00:00:00Z]   \n",
       "\n",
       "      nationality      gender   lastrevid ethnic_group US_congress_bio_ID  \\\n",
       "0  [Q161885, Q30]  [Q6581097]  1395141751         None            W000178   \n",
       "1          [Q145]  [Q6581097]  1395737157   [Q7994501]               None   \n",
       "\n",
       "                                          occupation      party  \\\n",
       "0  [Q82955, Q189290, Q131512, Q1734662, Q294126, ...  [Q327591]   \n",
       "1  [Q214917, Q28389, Q6625963, Q4853732, Q1884422...       None   \n",
       "\n",
       "  academic_degree   id              label           candidacy  type   religion  \n",
       "0            None  Q23  George Washington  [Q698073, Q697949]  item  [Q682443]  \n",
       "1            None  Q42      Douglas Adams                None  item       None  "
      ]
     },
     "execution_count": 5,
     "metadata": {},
     "output_type": "execute_result"
    }
   ],
   "source": [
    "speakers = pd.read_parquet(SPEAKERS_PATH)\n",
    "speakers.head(2)"
   ]
  },
  {
   "cell_type": "code",
   "execution_count": 6,
   "id": "967ce065",
   "metadata": {},
   "outputs": [],
   "source": [
    "# Keep only columns we are interested in to map ID -> name\n",
    "speakers = speakers[['id', 'label']]"
   ]
  },
  {
   "cell_type": "code",
   "execution_count": 7,
   "id": "39617269",
   "metadata": {},
   "outputs": [
    {
     "data": {
      "text/plain": [
       "'George Washington'"
      ]
     },
     "execution_count": 7,
     "metadata": {},
     "output_type": "execute_result"
    }
   ],
   "source": [
    "# Create a dictionary for fast lookup of 'id' (Q????) -> 'label' (name)\n",
    "qid_to_speaker = dict(speakers.values)\n",
    "qid_to_speaker['Q23']    "
   ]
  },
  {
   "cell_type": "markdown",
   "id": "c215e349",
   "metadata": {},
   "source": [
    "#### Map QIDs to speaker names"
   ]
  },
  {
   "cell_type": "code",
   "execution_count": 8,
   "id": "0a0d48e7",
   "metadata": {},
   "outputs": [
    {
     "data": {
      "text/html": [
       "<div>\n",
       "<style scoped>\n",
       "    .dataframe tbody tr th:only-of-type {\n",
       "        vertical-align: middle;\n",
       "    }\n",
       "\n",
       "    .dataframe tbody tr th {\n",
       "        vertical-align: top;\n",
       "    }\n",
       "\n",
       "    .dataframe thead th {\n",
       "        text-align: right;\n",
       "    }\n",
       "</style>\n",
       "<table border=\"1\" class=\"dataframe\">\n",
       "  <thead>\n",
       "    <tr style=\"text-align: right;\">\n",
       "      <th></th>\n",
       "      <th>quoteID</th>\n",
       "      <th>qids</th>\n",
       "      <th>journal</th>\n",
       "    </tr>\n",
       "  </thead>\n",
       "  <tbody>\n",
       "    <tr>\n",
       "      <th>5099578</th>\n",
       "      <td>2020-01-30-086957</td>\n",
       "      <td>Jenna Ortega</td>\n",
       "      <td>jhunewsletter.com</td>\n",
       "    </tr>\n",
       "    <tr>\n",
       "      <th>2641593</th>\n",
       "      <td>2020-03-24-039168</td>\n",
       "      <td>Jack Ziebell</td>\n",
       "      <td>theage.com.au</td>\n",
       "    </tr>\n",
       "    <tr>\n",
       "      <th>4632005</th>\n",
       "      <td>2020-03-12-008707</td>\n",
       "      <td>Leo Varadkar</td>\n",
       "      <td>wandsworthguardian.co.uk</td>\n",
       "    </tr>\n",
       "    <tr>\n",
       "      <th>1127977</th>\n",
       "      <td>2020-01-28-005396</td>\n",
       "      <td>Ayaan Hirsi Ali</td>\n",
       "      <td>timescall.com</td>\n",
       "    </tr>\n",
       "    <tr>\n",
       "      <th>1544514</th>\n",
       "      <td>2020-01-29-022345</td>\n",
       "      <td>Madeline Singas</td>\n",
       "      <td>news12.com</td>\n",
       "    </tr>\n",
       "  </tbody>\n",
       "</table>\n",
       "</div>"
      ],
      "text/plain": [
       "                   quoteID             qids                   journal\n",
       "5099578  2020-01-30-086957     Jenna Ortega         jhunewsletter.com\n",
       "2641593  2020-03-24-039168     Jack Ziebell             theage.com.au\n",
       "4632005  2020-03-12-008707     Leo Varadkar  wandsworthguardian.co.uk\n",
       "1127977  2020-01-28-005396  Ayaan Hirsi Ali             timescall.com\n",
       "1544514  2020-01-29-022345  Madeline Singas                news12.com"
      ]
     },
     "execution_count": 8,
     "metadata": {},
     "output_type": "execute_result"
    }
   ],
   "source": [
    "clean_quotes.qids = clean_quotes.qids.map(lambda x: qid_to_speaker.get(x, x)) # Map QID to name\n",
    "clean_quotes.sample(5)"
   ]
  },
  {
   "cell_type": "markdown",
   "id": "9d14238a",
   "metadata": {},
   "source": [
    "#### Cluster assignments"
   ]
  },
  {
   "cell_type": "code",
   "execution_count": 9,
   "id": "93e1ce74",
   "metadata": {},
   "outputs": [
    {
     "data": {
      "text/plain": [
       "journal\n",
       "1011now.com      -1.0\n",
       "1070thefan.com   -1.0\n",
       "Name: cluster_id, dtype: float64"
      ]
     },
     "execution_count": 9,
     "metadata": {},
     "output_type": "execute_result"
    }
   ],
   "source": [
    "cluster_assignments = pd.read_csv(CLUSTERS, index_col=0)['cluster_id']\n",
    "# dictionary {journal_name -> cluster_id}\n",
    "cluster_dict = dict(cluster_assignments)\n",
    "cluster_assignments.head(2)"
   ]
  },
  {
   "cell_type": "code",
   "execution_count": 10,
   "id": "478d5753",
   "metadata": {},
   "outputs": [],
   "source": [
    "n_clusters = len(cluster_assignments.unique()) - 1 # ignore noise cluster"
   ]
  },
  {
   "cell_type": "code",
   "execution_count": 11,
   "id": "061b5141",
   "metadata": {},
   "outputs": [
    {
     "data": {
      "text/html": [
       "<div>\n",
       "<style scoped>\n",
       "    .dataframe tbody tr th:only-of-type {\n",
       "        vertical-align: middle;\n",
       "    }\n",
       "\n",
       "    .dataframe tbody tr th {\n",
       "        vertical-align: top;\n",
       "    }\n",
       "\n",
       "    .dataframe thead th {\n",
       "        text-align: right;\n",
       "    }\n",
       "</style>\n",
       "<table border=\"1\" class=\"dataframe\">\n",
       "  <thead>\n",
       "    <tr style=\"text-align: right;\">\n",
       "      <th></th>\n",
       "      <th>quoteID</th>\n",
       "      <th>qids</th>\n",
       "      <th>journal</th>\n",
       "      <th>cluster</th>\n",
       "    </tr>\n",
       "  </thead>\n",
       "  <tbody>\n",
       "    <tr>\n",
       "      <th>0</th>\n",
       "      <td>2020-01-24-000168</td>\n",
       "      <td>Meghan King Edmonds</td>\n",
       "      <td>people.com</td>\n",
       "      <td>6.0</td>\n",
       "    </tr>\n",
       "  </tbody>\n",
       "</table>\n",
       "</div>"
      ],
      "text/plain": [
       "             quoteID                 qids     journal  cluster\n",
       "0  2020-01-24-000168  Meghan King Edmonds  people.com      6.0"
      ]
     },
     "execution_count": 11,
     "metadata": {},
     "output_type": "execute_result"
    }
   ],
   "source": [
    "# Assign each quote to its cluster\n",
    "clean_quotes['cluster'] = clean_quotes.journal.map(lambda j: cluster_dict[j])\n",
    "clean_quotes.head(1)"
   ]
  },
  {
   "cell_type": "markdown",
   "id": "171149c7",
   "metadata": {},
   "source": [
    "### Creating cluster attributes\n",
    "#### Cluster names\n",
    "Below we choose our cluster names based on our LDA, semantic analysis, and feature classification."
   ]
  },
  {
   "cell_type": "code",
   "execution_count": 12,
   "id": "808f50e2",
   "metadata": {},
   "outputs": [],
   "source": [
    "cluster_names = {\n",
    "    0: 'Video games',\n",
    "    1: 'Religion',\n",
    "    2: 'Ireland',\n",
    "    3: 'UK Sport - Football',\n",
    "    4: 'US Sport - Baseball, Hockey, Motorsport',\n",
    "    5: 'US Sport - American Football, Golf',\n",
    "    6: 'Celebrities',\n",
    "    7: 'Australia',\n",
    "    8: 'UK local journals',\n",
    "    9: 'Science, health & technology',\n",
    "    10: 'US West Coast',\n",
    "    11: 'India',\n",
    "    12: 'Canada',\n",
    "    13: 'New York',\n",
    "    14: 'US Politics'\n",
    "}"
   ]
  },
  {
   "cell_type": "markdown",
   "id": "1dd122f9",
   "metadata": {},
   "source": [
    "#### Most common speakers\n",
    "We now find the 10 most common speakers along with their frequency in the cluster"
   ]
  },
  {
   "cell_type": "code",
   "execution_count": 13,
   "id": "03c1b646",
   "metadata": {},
   "outputs": [],
   "source": [
    "top_speakers = []\n",
    "cluster_quotes = clean_quotes.groupby('cluster')\n",
    "for i in range(n_clusters):\n",
    "    speaking = cluster_quotes.get_group(i).qids\n",
    "    n_qs = len(speaking) # Number of quotes\n",
    "    top = [(spkr, freq/n_qs) for spkr, freq in Counter(speaking).most_common(10)]\n",
    "    top_speakers.append(top)"
   ]
  },
  {
   "cell_type": "code",
   "execution_count": 14,
   "id": "9aa97357",
   "metadata": {},
   "outputs": [
    {
     "name": "stdout",
     "output_type": "stream",
     "text": [
      "['Hideki Kamiya', 'Mark Cerny', 'Atsushi Inaba', 'Marty Stratton', 'Shuntaro Furukawa', 'Yoshinori Kitase', 'Casey Hudson', 'Neil Druckmann', 'Geoff Keighley', 'Jeff Kaplan']\n",
      "['Francis', 'Donald Trump', 'Robert Sarah', 'Hans Zollner', 'Benedict XVI', 'Nelson J. Perez', 'Robert W. McElroy', 'Joe Biden', 'George Pell', 'Mike Pence']\n",
      "['Leo Varadkar', 'Micheál Martin', 'Mary Lou McDonald', 'Donald Trump', 'Simon Coveney', 'Paschal Donohoe', 'Boris Johnson', 'José Mourinho', 'Jürgen Klopp', 'Pep Guardiola']\n",
      "['Jürgen Klopp', 'José Mourinho', 'Mikel Arteta', 'Pep Guardiola', 'Carlo Ancelotti', 'Zinedine Zidane', 'Quique Setién', 'Steve Bruce', 'Maurizio Sarri', 'Gary Neville']\n",
      "['Steve Kerr', 'Jim Boylen', 'Kyle Shanahan', 'Doc Rivers', 'Zach LaVine', 'Kyle Busch', 'Brandon Hyde', 'Kemba Walker', 'Jayson Tatum', 'Gabe Kapler']\n",
      "['Tiger Woods', 'Rory McIlroy', 'Brooks Koepka', 'Phil Mickelson', 'Kevin Colbert', 'Roger Goodell', 'Art Rooney II', 'Jay Monahan', 'Jack Nicklaus', 'Mike Tomlin']\n",
      "['Kim Kardashian', 'Justin Bieber', 'Selena Gomez', 'Taylor Swift', 'Jessica Simpson', 'Meghan, Duchess of Sussex', 'Billie Eilish', 'Demi Lovato', 'Kylie Jenner', 'Kobe Bryant']\n",
      "['Gladys Berejiklian', 'Annastacia Palaszczuk', 'Greg Hunt', 'Josh Frydenberg', 'Anthony Albanese', 'Peter Gutwein', 'Steven Miles', 'Brad Hazzard', 'Mick Fuller', 'Donald Trump']\n",
      "['Boris Johnson', 'Matt Hancock', 'Donald Trump', 'José Mourinho', 'Pep Guardiola', 'Dominic Raab', 'Nicola Sturgeon', 'Leo Varadkar', 'Rishi Sunak', 'Mikel Arteta']\n",
      "['Tedros Adhanom Ghebreyesus', 'Donald Trump', 'Akinwumi Adesina', 'Lee Hsien Loong', 'António Guterres', 'Rob Cooke', 'Nana Akufo-Addo', 'Anthony Fauci', 'Neil Powell', 'Mahathir Mohamad']\n",
      "['Gavin Newsom', 'Donald Trump', 'Eric Garcetti', 'LeBron James', 'Doc Rivers', 'Joe Maddon', 'Alex Villanueva', 'Kathryn Barger', 'Bernie Sanders', 'Kobe Bryant']\n",
      "['Narendra Modi', 'Donald Trump', 'Arvind Kejriwal', 'Virat Kohli', 'Mamata Banerjee', 'Rahul Gandhi', 'Tedros Adhanom Ghebreyesus', 'Uddhav Thackeray', 'Raveesh Kumar', 'Yogi Adityanath']\n",
      "['Justin Trudeau', 'Donald Trump', 'Jason Kenney', 'Theresa Tam', 'Patty Hajdu', 'Tedros Adhanom Ghebreyesus', 'Adrian Dix', 'Chrystia Freeland', 'François Legault', 'Andrew Scheer']\n",
      "['Andrew Cuomo', 'Bill de Blasio', 'Donald Trump', 'Letitia James', 'Steve Bellone', 'Jim Boeheim', 'Quentin Hillsman', 'Chuck Schumer', 'Michael Bloomberg', 'Anthony Fauci']\n",
      "['Donald Trump', 'Joe Biden', 'Bernie Sanders', 'Anthony Fauci', 'Andrew Cuomo', 'Elizabeth Warren', 'Nancy Pelosi', 'Mike Pompeo', 'Tedros Adhanom Ghebreyesus', 'Chuck Schumer']\n"
     ]
    }
   ],
   "source": [
    "for spkrs in top_speakers:\n",
    "    print([s for s, _ in spkrs])"
   ]
  },
  {
   "cell_type": "code",
   "execution_count": 15,
   "id": "076b724e",
   "metadata": {},
   "outputs": [],
   "source": [
    "# Assign the occupation/description of each speaker\n",
    "speaker_occupations = [\n",
    "    ['Video Game Designer', 'Video Game Designer', 'Video Game Producer', 'Producer/Developer', 'Nintendo president', 'Game director', 'Game developer', 'Writer, Game designer & executive', 'Video Game journalist', 'Video Game Designer'],\n",
    "    ['Pope', 'Former US President', 'Catholic prelate', 'Priest, Theologian, Philosopher', 'Former Pope', 'Catholic prelate', 'Catholic prelate', 'US President', 'Australian cardinal', 'Former US Vice-President'],\n",
    "    ['Tánaiste of Ireland', 'Ireland Taoiseach', 'Teachta Dála of Ireland', 'Former US President', 'Minister for Foreign Affairs of Ireland', 'Teachta Dála of Ireland', 'UK Prime Minister', 'Football manager', 'Football manager', 'Football manager'],\n",
    "    ['Football Manager', 'Football Manager', 'Football Manager', 'Football Manager', 'Football Manager', 'Football Manager', 'Football Manager', 'Football Manager', 'Football Manager', 'Football Manager'],\n",
    "    ['Basketball coach', 'Basketball coach', 'American football coach', 'Basketball coach', 'Basketball player', 'Race car driver', 'Baseball manager', 'Basketball player', 'Basketball player', 'Baseball manager'],\n",
    "    ['Golfer', 'Golfer', 'Golfer', 'Golfer', 'American football player', 'NFL Commissioner', 'American Football team owner', 'Golf PGA Tour Commissioner', 'Golfer', 'American football coach'],\n",
    "    ['Reality star', 'Singer', 'Singer', 'Singer', 'Singer', 'Actress & Former member of UK Royalty ', 'Singer', 'Singer', 'Reality star', 'Basketball player'],\n",
    "    ['Former Premier of New South Wales and leader of the New South Wales Liberal Party', 'Premier of Queensland', 'Australian Minister for Health and Aged Care', 'Treasurer of Australia', 'Leader of the Opposition of Australia', 'Premier of Tasmania', 'Deputy Premier of Queensland', 'Minister for Health and Medical Research of New South Wales', 'Commissioner of the New South Wales Police Force', 'Former US President'],\n",
    "    ['UK Prime Minister', 'UK Member of Parliament & Former Secretary of State for Health and Social Care', 'Former US President', 'Football Manager', 'Football Manager', 'British politician, UK Deputy Prime Minister, Secretary of State for Justice & Lord Chancellor', 'First Minister of Scotland', 'Tánaiste of Ireland', 'British politician & Chancellor of the Exchequer', 'Football Manager'],\n",
    "    ['Director-General of the World Health Organization', 'Former US President', 'Nigerian economist & President of the African Development Bank', 'Prime Minister of Singapore', 'Secretary-General of the United Nations', '?', 'President of Ghana', 'Chief Medical Advisor to the President of United States', 'South African Rugby player', 'Former Prime Minister of Malaysia'],\n",
    "    ['Governor of California', 'Former US President', 'Los Angeles Mayor', 'Basketball player', 'Basketball Coach', 'Baseball Manager', 'Los Angeles Sheriff', 'Los Angeles politician', 'US Senator', 'Basketball player'],\n",
    "    ['India Prime Minister', 'Former US President', 'Chief Minister of Delhi', 'Indian cricketer', 'Chief Minister of West Bengal', 'Indian Politician', 'Director-General of the World Health Organization', 'Chief Minister of Maharashtra', 'Indian diplomat', 'Indian monk & politician'],\n",
    "    ['Canada Prime Minister', 'Former US President', 'Premier of Alberta', 'Chief Public Health Officer of Canada', 'Member of the House of Commons of Canada', 'Director-General of the World Health Organization', 'Member of the Legislative Assembly of British Columbia', 'Minister of Finance of Canada', 'Premier of Quebec', 'Member of the House of Commons of Canada'],\n",
    "    ['Former Governor of New York', 'Mayor of New York City', 'Former US President', 'Attorney General of New York', 'County Executive of Suffolk County, New York', 'American basketball coach', 'Basketball coach', 'US Senate Majority Leader', 'Former Mayor of New York City & Businessman', 'Chief Medical Advisor to the President of United States'],\n",
    "    ['Former US President', 'US President', 'US Senator', 'Chief Medical Advisor to the President of United States', 'Former Governor of New York', 'US Senator', 'Speaker of the United States House of Representatives', 'US Politician', 'Director-General of the World Health Organization', 'US Senate Majority Leader'],\n",
    "]\n",
    "\n",
    "for i in range(len(top_speakers)):\n",
    "    for j in range(len(top_speakers[i])):\n",
    "        name, freq = top_speakers[i][j]\n",
    "        top_speakers[i][j] = (name, speaker_occupations[i][j], freq)"
   ]
  },
  {
   "cell_type": "markdown",
   "id": "f866326b",
   "metadata": {},
   "source": [
    "#### Top websites/journals"
   ]
  },
  {
   "cell_type": "code",
   "execution_count": 16,
   "id": "888dbecb",
   "metadata": {},
   "outputs": [
    {
     "data": {
      "text/plain": [
       "journal\n",
       "1011now.com          289\n",
       "1070thefan.com        60\n",
       "107jamz.com          193\n",
       "10news.com          1132\n",
       "1130thetiger.com      60\n",
       "                    ... \n",
       "zalebs.com            32\n",
       "zawya.com           3116\n",
       "zdnet.com            625\n",
       "zeibiz.com            13\n",
       "zerotackle.com        33\n",
       "Length: 5734, dtype: int64"
      ]
     },
     "execution_count": 16,
     "metadata": {},
     "output_type": "execute_result"
    }
   ],
   "source": [
    "journal_counts = clean_quotes.groupby('journal').size()\n",
    "journal_counts"
   ]
  },
  {
   "cell_type": "code",
   "execution_count": 17,
   "id": "bd6986a1",
   "metadata": {},
   "outputs": [],
   "source": [
    "cluster_journals = cluster_assignments.groupby(cluster_assignments)\n",
    "top_journals = []\n",
    "for i in range(n_clusters):\n",
    "    jrnls = cluster_journals.groups[i]\n",
    "    cluster_counts = journal_counts[[j in jrnls for j in journal_counts.index]]\n",
    "    cluster_counts = cluster_counts.sort_values(ascending=False)\n",
    "    top_journals.append(cluster_counts.head(10).index.values)"
   ]
  },
  {
   "cell_type": "markdown",
   "id": "6ffce70b",
   "metadata": {},
   "source": [
    "#### Create attributes dataframe"
   ]
  },
  {
   "cell_type": "code",
   "execution_count": 18,
   "id": "dd398306",
   "metadata": {},
   "outputs": [
    {
     "data": {
      "text/html": [
       "<div>\n",
       "<style scoped>\n",
       "    .dataframe tbody tr th:only-of-type {\n",
       "        vertical-align: middle;\n",
       "    }\n",
       "\n",
       "    .dataframe tbody tr th {\n",
       "        vertical-align: top;\n",
       "    }\n",
       "\n",
       "    .dataframe thead th {\n",
       "        text-align: right;\n",
       "    }\n",
       "</style>\n",
       "<table border=\"1\" class=\"dataframe\">\n",
       "  <thead>\n",
       "    <tr style=\"text-align: right;\">\n",
       "      <th></th>\n",
       "      <th>name</th>\n",
       "      <th>journals</th>\n",
       "      <th>speakers</th>\n",
       "    </tr>\n",
       "    <tr>\n",
       "      <th>cluster_id</th>\n",
       "      <th></th>\n",
       "      <th></th>\n",
       "      <th></th>\n",
       "    </tr>\n",
       "  </thead>\n",
       "  <tbody>\n",
       "    <tr>\n",
       "      <th>0</th>\n",
       "      <td>Video games</td>\n",
       "      <td>[gamesindustry.biz, usgamer.net, gamingbolt.co...</td>\n",
       "      <td>[(Hideki Kamiya, Video Game Designer, 0.040353...</td>\n",
       "    </tr>\n",
       "    <tr>\n",
       "      <th>1</th>\n",
       "      <td>Religion</td>\n",
       "      <td>[ncregister.com, catholicnewsagency.com, cruxn...</td>\n",
       "      <td>[(Francis, Pope, 0.3792224763149298), (Donald ...</td>\n",
       "    </tr>\n",
       "    <tr>\n",
       "      <th>2</th>\n",
       "      <td>Ireland</td>\n",
       "      <td>[breakingnews.ie, irishexaminer.com, independe...</td>\n",
       "      <td>[(Leo Varadkar, Tánaiste of Ireland, 0.0429631...</td>\n",
       "    </tr>\n",
       "    <tr>\n",
       "      <th>3</th>\n",
       "      <td>UK Sport - Football</td>\n",
       "      <td>[skysports.com, ghanasoccernet.com, sportsmole...</td>\n",
       "      <td>[(Jürgen Klopp, Football Manager, 0.0369725558...</td>\n",
       "    </tr>\n",
       "    <tr>\n",
       "      <th>4</th>\n",
       "      <td>US Sport - Baseball, Hockey, Motorsport</td>\n",
       "      <td>[nbcsports.com, nesn.com, mlb.com, racer.com, ...</td>\n",
       "      <td>[(Steve Kerr, Basketball coach, 0.019252128841...</td>\n",
       "    </tr>\n",
       "    <tr>\n",
       "      <th>5</th>\n",
       "      <td>US Sport - American Football, Golf</td>\n",
       "      <td>[cbssports.com, swxrightnow.com, usatoday.com,...</td>\n",
       "      <td>[(Tiger Woods, Golfer, 0.02111017997525839), (...</td>\n",
       "    </tr>\n",
       "    <tr>\n",
       "      <th>6</th>\n",
       "      <td>Celebrities</td>\n",
       "      <td>[people.com, cheatsheet.com, etonline.com, fem...</td>\n",
       "      <td>[(Kim Kardashian, Reality star, 0.011869738275...</td>\n",
       "    </tr>\n",
       "    <tr>\n",
       "      <th>7</th>\n",
       "      <td>Australia</td>\n",
       "      <td>[smh.com.au, brisbanetimes.com.au, sunshinecoa...</td>\n",
       "      <td>[(Gladys Berejiklian, Former Premier of New So...</td>\n",
       "    </tr>\n",
       "    <tr>\n",
       "      <th>8</th>\n",
       "      <td>UK local journals</td>\n",
       "      <td>[bucksfreepress.co.uk, expressandstar.com, eve...</td>\n",
       "      <td>[(Boris Johnson, UK Prime Minister, 0.03251130...</td>\n",
       "    </tr>\n",
       "    <tr>\n",
       "      <th>9</th>\n",
       "      <td>Science, health &amp; technology</td>\n",
       "      <td>[asiaone.com, sciencecodex.com, africanews.com...</td>\n",
       "      <td>[(Tedros Adhanom Ghebreyesus, Director-General...</td>\n",
       "    </tr>\n",
       "    <tr>\n",
       "      <th>10</th>\n",
       "      <td>US West Coast</td>\n",
       "      <td>[pasadenastarnews.com, dailynews.com, presstel...</td>\n",
       "      <td>[(Gavin Newsom, Governor of California, 0.0658...</td>\n",
       "    </tr>\n",
       "    <tr>\n",
       "      <th>11</th>\n",
       "      <td>India</td>\n",
       "      <td>[indiatimes.com, news18.com, hindustantimes.co...</td>\n",
       "      <td>[(Narendra Modi, India Prime Minister, 0.04196...</td>\n",
       "    </tr>\n",
       "    <tr>\n",
       "      <th>12</th>\n",
       "      <td>Canada</td>\n",
       "      <td>[ctvnews.ca, thestar.com, baytoday.ca, theglob...</td>\n",
       "      <td>[(Justin Trudeau, Canada Prime Minister, 0.041...</td>\n",
       "    </tr>\n",
       "    <tr>\n",
       "      <th>13</th>\n",
       "      <td>New York</td>\n",
       "      <td>[crainsnewyork.com, pix11.com, tapinto.net, ne...</td>\n",
       "      <td>[(Andrew Cuomo, Former Governor of New York, 0...</td>\n",
       "    </tr>\n",
       "    <tr>\n",
       "      <th>14</th>\n",
       "      <td>US Politics</td>\n",
       "      <td>[msn.com, breitbart.com, washingtontimes.com, ...</td>\n",
       "      <td>[(Donald Trump, Former US President, 0.0706148...</td>\n",
       "    </tr>\n",
       "  </tbody>\n",
       "</table>\n",
       "</div>"
      ],
      "text/plain": [
       "                                               name  \\\n",
       "cluster_id                                            \n",
       "0                                       Video games   \n",
       "1                                          Religion   \n",
       "2                                           Ireland   \n",
       "3                               UK Sport - Football   \n",
       "4           US Sport - Baseball, Hockey, Motorsport   \n",
       "5                US Sport - American Football, Golf   \n",
       "6                                       Celebrities   \n",
       "7                                         Australia   \n",
       "8                                 UK local journals   \n",
       "9                      Science, health & technology   \n",
       "10                                    US West Coast   \n",
       "11                                            India   \n",
       "12                                           Canada   \n",
       "13                                         New York   \n",
       "14                                      US Politics   \n",
       "\n",
       "                                                     journals  \\\n",
       "cluster_id                                                      \n",
       "0           [gamesindustry.biz, usgamer.net, gamingbolt.co...   \n",
       "1           [ncregister.com, catholicnewsagency.com, cruxn...   \n",
       "2           [breakingnews.ie, irishexaminer.com, independe...   \n",
       "3           [skysports.com, ghanasoccernet.com, sportsmole...   \n",
       "4           [nbcsports.com, nesn.com, mlb.com, racer.com, ...   \n",
       "5           [cbssports.com, swxrightnow.com, usatoday.com,...   \n",
       "6           [people.com, cheatsheet.com, etonline.com, fem...   \n",
       "7           [smh.com.au, brisbanetimes.com.au, sunshinecoa...   \n",
       "8           [bucksfreepress.co.uk, expressandstar.com, eve...   \n",
       "9           [asiaone.com, sciencecodex.com, africanews.com...   \n",
       "10          [pasadenastarnews.com, dailynews.com, presstel...   \n",
       "11          [indiatimes.com, news18.com, hindustantimes.co...   \n",
       "12          [ctvnews.ca, thestar.com, baytoday.ca, theglob...   \n",
       "13          [crainsnewyork.com, pix11.com, tapinto.net, ne...   \n",
       "14          [msn.com, breitbart.com, washingtontimes.com, ...   \n",
       "\n",
       "                                                     speakers  \n",
       "cluster_id                                                     \n",
       "0           [(Hideki Kamiya, Video Game Designer, 0.040353...  \n",
       "1           [(Francis, Pope, 0.3792224763149298), (Donald ...  \n",
       "2           [(Leo Varadkar, Tánaiste of Ireland, 0.0429631...  \n",
       "3           [(Jürgen Klopp, Football Manager, 0.0369725558...  \n",
       "4           [(Steve Kerr, Basketball coach, 0.019252128841...  \n",
       "5           [(Tiger Woods, Golfer, 0.02111017997525839), (...  \n",
       "6           [(Kim Kardashian, Reality star, 0.011869738275...  \n",
       "7           [(Gladys Berejiklian, Former Premier of New So...  \n",
       "8           [(Boris Johnson, UK Prime Minister, 0.03251130...  \n",
       "9           [(Tedros Adhanom Ghebreyesus, Director-General...  \n",
       "10          [(Gavin Newsom, Governor of California, 0.0658...  \n",
       "11          [(Narendra Modi, India Prime Minister, 0.04196...  \n",
       "12          [(Justin Trudeau, Canada Prime Minister, 0.041...  \n",
       "13          [(Andrew Cuomo, Former Governor of New York, 0...  \n",
       "14          [(Donald Trump, Former US President, 0.0706148...  "
      ]
     },
     "execution_count": 18,
     "metadata": {},
     "output_type": "execute_result"
    }
   ],
   "source": [
    "cluster_top = {}\n",
    "for i in range(n_clusters):\n",
    "    cluster_top[i] = [cluster_names[i], list(top_journals[i]), top_speakers[i]]\n",
    "\n",
    "df = pd.DataFrame.from_dict(cluster_top, 'index', columns=['name', 'journals', 'speakers'])\n",
    "df.index.name = 'cluster_id'\n",
    "df"
   ]
  },
  {
   "cell_type": "code",
   "execution_count": 19,
   "id": "b0e02228",
   "metadata": {},
   "outputs": [],
   "source": [
    "# Save as JSON object to use in datastory website\n",
    "df.reset_index().to_json('../../datasets/cluster-info.json', orient='records')"
   ]
  }
 ],
 "metadata": {
  "kernelspec": {
   "display_name": "Python [conda env:ada] *",
   "language": "python",
   "name": "conda-env-ada-py"
  },
  "language_info": {
   "codemirror_mode": {
    "name": "ipython",
    "version": 3
   },
   "file_extension": ".py",
   "mimetype": "text/x-python",
   "name": "python",
   "nbconvert_exporter": "python",
   "pygments_lexer": "ipython3",
   "version": "3.8.12"
  }
 },
 "nbformat": 4,
 "nbformat_minor": 5
}
