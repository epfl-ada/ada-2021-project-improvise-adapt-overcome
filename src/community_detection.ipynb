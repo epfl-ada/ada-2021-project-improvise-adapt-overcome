{
  "nbformat": 4,
  "nbformat_minor": 0,
  "metadata": {
    "colab": {
      "name": "graph_visualisation.ipynb",
      "provenance": []
    },
    "kernelspec": {
      "name": "python3",
      "display_name": "Python 3"
    },
    "language_info": {
      "name": "python"
    }
  },
  "cells": [
    {
      "cell_type": "markdown",
      "metadata": {
        "id": "zgqYg5ckcIM4"
      },
      "source": [
        "##community detection with graph algo and network visualisation\n",
        "\n",
        "This part describe another way to identify communities of journals.\n",
        "\n",
        "###network visualisation\n",
        "Network visualisation is principally an interactive process where we use algortihms such as *ForceAtlas2* and *fruchterman reingold* to transform and spatialize the graph. It is very hard to do it in python, thus we use a specialsed tool to it : [gephi](https://gephi.org/) (we have functions to transform the dataset to gephi compatible format). Gephi is more or less able to handle *100'000* edges+nodes at the same time. It is not ideal for the dataset-size, but we already get very good results with that amount of data and if we need more granular results, we can analyse communities one by one (ex zooming on the political cluster in uk). Moreover, there is so much communities in the dataset that visualising them all at the same time is impossible.\n",
        "\n",
        "###community detection\n",
        "We identify community using their [modularity](https://en.wikipedia.org/wiki/Modularity_(networks)). All the agorithms we use try to maximise the modularity of the network partions (the algorithm depends of what is available on the platform and an optimal algorithm don't exist) . The agorithms also have a resolution parameter that enables you to choose aproximately the size of the partions, setting it is mainly empirical. We can evaluate the quality of the partions with the modularity and by human analysis.\n",
        "\n",
        "###first analysis of results\n",
        "\n",
        "We analyse with gephi the first *100'000* quotes of the 2020 quotesbank dataset (before data processing). After spatializing the network and coloring the communities (grey is too small to have a colour), we identify several coherent communities : indias outlets (in purple), australias outlets (in green), new york (in brown)... . It seems to be a very good start. \n",
        "\n",
        "We provide a link to the visualisation as it don't fit in the notebook :[graph visualisation](https://github.com/epfl-ada/ada-2021-project-improvise-adapt-overcome/blob/master/src/images/small_network_3.svg) (if you download it unzoom to see the full graph)."
      ]
    }
  ]
}