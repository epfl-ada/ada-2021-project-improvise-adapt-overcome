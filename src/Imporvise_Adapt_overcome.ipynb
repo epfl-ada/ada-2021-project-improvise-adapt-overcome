{
  "nbformat": 4,
  "nbformat_minor": 0,
  "metadata": {
    "colab": {
      "name": "Imporvise Adapt overcome.ipynb",
      "provenance": []
    },
    "kernelspec": {
      "name": "python3",
      "display_name": "Python 3"
    },
    "language_info": {
      "name": "python"
    }
  },
  "cells": [
    {
      "cell_type": "markdown",
      "metadata": {
        "id": "xQGNqmk3P9vb"
      },
      "source": [
        "#Data cleaning and formatting\n",
        "\n",
        "In this notebook, we transform the 2020-quotesbank dataset in a graph. We use the graph to filter the speakers and the journals and to create new datasets."
      ]
    },
    {
      "cell_type": "code",
      "metadata": {
        "colab": {
          "base_uri": "https://localhost:8080/"
        },
        "id": "mvLp_TlANsMs",
        "outputId": "dd567963-25c9-4f31-d319-b8f3d6b073a6"
      },
      "source": [
        "from google.colab import drive\n",
        "drive.mount('/content/drive')"
      ],
      "execution_count": null,
      "outputs": [
        {
          "output_type": "stream",
          "name": "stdout",
          "text": [
            "Drive already mounted at /content/drive; to attempt to forcibly remount, call drive.mount(\"/content/drive\", force_remount=True).\n"
          ]
        }
      ]
    },
    {
      "cell_type": "code",
      "metadata": {
        "colab": {
          "base_uri": "https://localhost:8080/",
          "height": 388
        },
        "id": "ty4k1UHwOCi7",
        "outputId": "73f143d1-6a2b-4848-ce84-a9363bf13e24"
      },
      "source": [
        "###you need restart kernel\n",
        "!pip install pandas==1.0.5"
      ],
      "execution_count": null,
      "outputs": [
        {
          "output_type": "stream",
          "name": "stdout",
          "text": [
            "Collecting pandas==1.0.5\n",
            "  Downloading pandas-1.0.5-cp37-cp37m-manylinux1_x86_64.whl (10.1 MB)\n",
            "\u001b[K     |████████████████████████████████| 10.1 MB 2.1 MB/s \n",
            "\u001b[?25hRequirement already satisfied: pytz>=2017.2 in /usr/local/lib/python3.7/dist-packages (from pandas==1.0.5) (2018.9)\n",
            "Requirement already satisfied: numpy>=1.13.3 in /usr/local/lib/python3.7/dist-packages (from pandas==1.0.5) (1.19.5)\n",
            "Requirement already satisfied: python-dateutil>=2.6.1 in /usr/local/lib/python3.7/dist-packages (from pandas==1.0.5) (2.8.2)\n",
            "Requirement already satisfied: six>=1.5 in /usr/local/lib/python3.7/dist-packages (from python-dateutil>=2.6.1->pandas==1.0.5) (1.15.0)\n",
            "Installing collected packages: pandas\n",
            "  Attempting uninstall: pandas\n",
            "    Found existing installation: pandas 1.1.5\n",
            "    Uninstalling pandas-1.1.5:\n",
            "      Successfully uninstalled pandas-1.1.5\n",
            "\u001b[31mERROR: pip's dependency resolver does not currently take into account all the packages that are installed. This behaviour is the source of the following dependency conflicts.\n",
            "google-colab 1.0.0 requires pandas~=1.1.0; python_version >= \"3.0\", but you have pandas 1.0.5 which is incompatible.\u001b[0m\n",
            "Successfully installed pandas-1.0.5\n"
          ]
        },
        {
          "output_type": "display_data",
          "data": {
            "application/vnd.colab-display-data+json": {
              "pip_warning": {
                "packages": [
                  "pandas"
                ]
              }
            }
          },
          "metadata": {}
        }
      ]
    },
    {
      "cell_type": "code",
      "metadata": {
        "id": "_lXe8lrrh4lW"
      },
      "source": [
        "import pathlib\n",
        "import pandas as pd\n",
        "from pathlib import Path\n",
        "import bz2\n",
        "from urllib.parse import urlparse\n",
        "import networkx as nx\n",
        "import seaborn as sns\n",
        "import numpy as np\n",
        "import matplotlib.pyplot as plt  "
      ],
      "execution_count": null,
      "outputs": []
    },
    {
      "cell_type": "code",
      "metadata": {
        "colab": {
          "base_uri": "https://localhost:8080/"
        },
        "id": "u_emrRXANylE",
        "outputId": "1e1a6b06-b8ec-4110-be86-9afe5ede81a7"
      },
      "source": [
        "quotebanks = Path('/content/drive/MyDrive/Quotebank')\n",
        "save = Path('/content/drive/MyDrive/Quotebank')\n",
        "quotebanks_2020 = quotebanks/'quotes-2020.json.bz2'\n",
        "quotebanks_2020.exists()"
      ],
      "execution_count": null,
      "outputs": [
        {
          "output_type": "execute_result",
          "data": {
            "text/plain": [
              "True"
            ]
          },
          "metadata": {},
          "execution_count": 4
        }
      ]
    },
    {
      "cell_type": "markdown",
      "metadata": {
        "id": "thSQBgFFRT9P"
      },
      "source": [
        "In this part, we create an undirected weighted graph. To represent the name of the journal, we use the netloc of the url. When creating the graph we do several things.\n",
        "- We drop the quotes which we don't know the speaker.\n",
        "- We attribute an id to each nodes (the journal and the speaker) to do it, we increment a counter\n",
        "- Each nodes has also 2 attributes : a label (speaker or journal name) and whether it is a journal or a speaker"
      ]
    },
    {
      "cell_type": "code",
      "metadata": {
        "id": "kmbd_MlvRKfX"
      },
      "source": [
        "def get_domain(url):\n",
        "    return  urlparse(url).netloc"
      ],
      "execution_count": null,
      "outputs": []
    },
    {
      "cell_type": "code",
      "metadata": {
        "id": "O1Pdr4E2Of1x"
      },
      "source": [
        "G = nx.Graph()\n",
        "reader = pd.read_json(quotebanks_2020, lines=True, compression='bz2', chunksize=100000)\n",
        "\n",
        "label_to_nodes_id = dict()\n",
        "id_counter = 0\n",
        "\n",
        "for i, chunck in enumerate(reader):\n",
        "  edges = pd.DataFrame()\n",
        "  edges['speaker'] = chunck['speaker']\n",
        "  edges['journal'] = chunck['urls'].apply(lambda x: get_domain(x[0]))\n",
        "  edges = edges[edges.speaker!='None']\n",
        " \n",
        "  for _, row in edges.iterrows():\n",
        "    speaker = row.speaker\n",
        "    journal = row.journal\n",
        "\n",
        "\n",
        "    if not speaker in label_to_nodes_id:\n",
        "      G.add_node(id, label=speaker, kind='s')\n",
        "      nodes_[speaker] = id\n",
        "      id_counter += 1\n",
        "    \n",
        "    if not journal in label_to_nodes_id:\n",
        "      G.add_node(id, label=journal, kind='j')\n",
        "      nodes_[journal] = id\n",
        "      id_counter += 1\n",
        "    \n",
        "    journal_id = label_to_nodes_id[speaker]\n",
        "    speaker_id = label_to_nodes_id[journal]\n",
        "\n",
        "    if not G.has_edge(journal_id, speaker_id):\n",
        "      G.add_edge(journal_id, speaker_id, weight=1)\n",
        "    else:\n",
        "      G.edges[journal_id, speaker_id]['weight'] += 1\n",
        "  \n",
        "  print(f'{i}')\n",
        "  if i==10:\n",
        "    break"
      ],
      "execution_count": null,
      "outputs": []
    },
    {
      "cell_type": "code",
      "metadata": {
        "id": "OHmFGUKCbi96"
      },
      "source": [
        "\n",
        "#return an iterator on a (node, degree) list\n",
        "def unweighted_degrees(graph) -> [(int, int)]:\n",
        "  return G.degree()\n",
        "\n",
        "def weighted_degrees(graph) -> [(int, int)]:\n",
        "  return  G.degree(weight='weight')\n",
        "\n",
        "#return a list of the nodes degrees\n",
        "def list_degree(degrees_iterator) -> [int]:\n",
        "  return [degree for id, degree in G.degree]\n",
        "\n",
        "def connected_components(graph):\n",
        "  return nx.connected_components(G)\n",
        "\n",
        "def connected_components_sizes(graph):\n",
        "  return np.array([len(c) for c in connected_components(graph)])\n",
        "\n",
        "def graph_statisics(graph):\n",
        "  print(f'number of nodes {len(graph.nodes)}')\n",
        "  print(f'number of edges {len(graph.edges)}')\n",
        "  print(f'number of connected components {len(connected_components_sizes(graph))}')"
      ],
      "execution_count": null,
      "outputs": []
    },
    {
      "cell_type": "code",
      "metadata": {
        "id": "04LzC9pgk7Mj"
      },
      "source": [
        "####in place !!!!\n",
        "def remove_nodes_with_degree_less(graph, than=2):\n",
        "  ## we use unweighted degree as better representative of graph connectivity\n",
        "  to_remove =  [ node for node, degree in unweighted_degrees(graph) if degree<=than]\n",
        "  graph.remove_nodes_from(to_remove)\n",
        "  return graph\n",
        "\n",
        "def remove_components_with_size_less(graph, than=8):\n",
        "  components_to_remove = [ component for component in connected_components(graph) if len(component)<=than]\n",
        "  to_remove = [ node for component in components_to_remove for node in component ]\n",
        "  graph.remove_nodes_from(to_remove)\n",
        "  return graph"
      ],
      "execution_count": null,
      "outputs": []
    },
    {
      "cell_type": "code",
      "metadata": {
        "id": "0d1baJs3Oyuy"
      },
      "source": [
        "#['quoteID', 'quotation', 'speaker', 'qids', 'date', 'numOccurrences',\n",
        "#      'probas', 'urls', 'phase']\n",
        "\n",
        "\n",
        "####considering the the nodes with a small degree is not very interseting to help us creating the graph\n",
        "####however they can be very interesting when exploring a group as they may represent what differentiate a group\n",
        "#### from other groups"
      ],
      "execution_count": null,
      "outputs": []
    },
    {
      "cell_type": "markdown",
      "metadata": {
        "id": "j_F3bxhrdWWb"
      },
      "source": [
        "We analyse the distributions of the nodes degrees, of the weighted nodes degrees and of the size of the connected components. \n",
        "\n",
        "We see it is a power law and we choose to exclude all nodes that have an unweighted degree less than 2. The rational behind it is that nodes with degree one don't cannot help us to cluster better the newspeppers or authors (even if it would be very useful to consider them when exploring a group as they may represent what differentiate a group\n",
        "from other groups). We choose also to exclude nodes with degree 2 as it allows to significantally reduce the numbers of edges and empirically it does not seem to impact the analysis. Depending on the algorithm and the situation the thresold may vary.\n",
        "\n",
        "We keep *80%* of the edges and *40%* of the nodes and the whole pipline is quite fast more or less 20 minutes and the graph quite small *3.5* MB. We can handle the amount of data."
      ]
    },
    {
      "cell_type": "code",
      "metadata": {
        "colab": {
          "base_uri": "https://localhost:8080/"
        },
        "id": "DwMnEzdpktyM",
        "outputId": "60a26e48-6199-4a0f-9f99-b42eddad396d"
      },
      "source": [
        "graph_statisics(G)"
      ],
      "execution_count": null,
      "outputs": [
        {
          "output_type": "stream",
          "name": "stdout",
          "text": [
            "number of nodes 230354\n",
            "number of edges 1044309\n",
            "number of connected components 585\n"
          ]
        }
      ]
    },
    {
      "cell_type": "code",
      "metadata": {
        "colab": {
          "base_uri": "https://localhost:8080/",
          "height": 299
        },
        "id": "YMANfaQMWb-F",
        "outputId": "5054ecc0-9c21-410e-e09e-6c2e408c2b76"
      },
      "source": [
        "sns.ecdfplot(data=list_degree(unweighted_degrees(G)), complementary=True, log_scale=(True, True), legend=False)\n",
        "\n",
        "plt.title('distributions of unweighted nodes degrees')\n",
        "plt.xlabel('node degree')\n",
        "plt.yscale('log')\n",
        "plt.xscale('log')"
      ],
      "execution_count": null,
      "outputs": [
        {
          "output_type": "display_data",
          "data": {
            "image/png": "[encoded data removed]",
            "text/plain": [
              "<Figure size 432x288 with 1 Axes>"
            ]
          },
          "metadata": {
            "needs_background": "light"
          }
        }
      ]
    },
    {
      "cell_type": "code",
      "metadata": {
        "colab": {
          "base_uri": "https://localhost:8080/",
          "height": 316
        },
        "id": "oci7vjvdcmvJ",
        "outputId": "9af54631-ea68-4b2f-f4eb-4cf8c2e8b40a"
      },
      "source": [
        "sns.ecdfplot(data=list_degree(weighted_degrees(G)), complementary=True, log_scale=(True, True), legend=False)\n",
        "\n",
        "plt.title('distributions of weighted nodes degrees')\n",
        "plt.xlabel('node degree')"
      ],
      "execution_count": null,
      "outputs": [
        {
          "output_type": "execute_result",
          "data": {
            "text/plain": [
              "Text(0.5, 0, 'node degree')"
            ]
          },
          "metadata": {},
          "execution_count": 10
        },
        {
          "output_type": "display_data",
          "data": {
            "image/png": "[encoded data removed]",
            "text/plain": [
              "<Figure size 432x288 with 1 Axes>"
            ]
          },
          "metadata": {
            "needs_background": "light"
          }
        }
      ]
    },
    {
      "cell_type": "code",
      "metadata": {
        "colab": {
          "base_uri": "https://localhost:8080/",
          "height": 299
        },
        "id": "bkKC_17chHcl",
        "outputId": "cdce36de-a851-448b-ecd8-c81cd7d5e97a"
      },
      "source": [
        "sns.ecdfplot(data=connected_components_sizes(G), complementary=True, log_scale=(True, True), legend=False)\n",
        "\n",
        "plt.title('distributions of connected components sizes')\n",
        "plt.xlabel('connected components degrees')\n",
        "plt.yscale('log')\n",
        "plt.xscale('log')"
      ],
      "execution_count": null,
      "outputs": [
        {
          "output_type": "display_data",
          "data": {
            "image/png": "[encoded data removed]",
            "text/plain": [
              "<Figure size 432x288 with 1 Axes>"
            ]
          },
          "metadata": {
            "needs_background": "light"
          }
        }
      ]
    },
    {
      "cell_type": "code",
      "metadata": {
        "colab": {
          "base_uri": "https://localhost:8080/"
        },
        "id": "Dm8sN8VOm_NW",
        "outputId": "7295e99e-562a-4a8e-be1b-5ac40c627eb9"
      },
      "source": [
        "G = remove_nodes_with_degree_less(G, than=2)\n",
        "graph_statisics(G)"
      ],
      "execution_count": null,
      "outputs": [
        {
          "output_type": "stream",
          "name": "stdout",
          "text": [
            "number of nodes 88367\n",
            "number of edges 865660\n",
            "number of connected components 41\n"
          ]
        }
      ]
    },
    {
      "cell_type": "code",
      "metadata": {
        "colab": {
          "base_uri": "https://localhost:8080/"
        },
        "id": "QnLnrc__pAbV",
        "outputId": "ed82ce7a-b430-44e6-d325-a2dbdf27e81d"
      },
      "source": [
        "G = remove_components_with_size_less(G, than=8)\n",
        "graph_statisics(G)"
      ],
      "execution_count": null,
      "outputs": [
        {
          "output_type": "stream",
          "name": "stdout",
          "text": [
            "number of nodes 88324\n",
            "number of edges 865657\n",
            "number of connected components 1\n"
          ]
        }
      ]
    },
    {
      "cell_type": "code",
      "metadata": {
        "colab": {
          "base_uri": "https://localhost:8080/",
          "height": 299
        },
        "id": "awtEDcGppWHi",
        "outputId": "c50ce78e-0578-4187-bad3-de77d4792083"
      },
      "source": [
        "sns.ecdfplot(data=list_degree(unweighted_degrees(G)), complementary=True, log_scale=(True, True), legend=False)\n",
        "\n",
        "plt.title('distributions of unweighted nodes degrees')\n",
        "plt.xlabel('node degree')\n",
        "plt.yscale('log')\n",
        "plt.xscale('log')"
      ],
      "execution_count": null,
      "outputs": [
        {
          "output_type": "display_data",
          "data": {
            "image/png": "[encoded data removed]",
            "text/plain": [
              "<Figure size 432x288 with 1 Axes>"
            ]
          },
          "metadata": {
            "needs_background": "light"
          }
        }
      ]
    },
    {
      "cell_type": "markdown",
      "metadata": {
        "id": "f5AbDGqP8ofV"
      },
      "source": [
        "We visualize the graph and make a basic visual inspection to catch problems in the data. The main problem we identify, is that some entities are represented with several different names (ex *President trump*, *President donald trump*, *donald trump* ..), but with the amount of data we have it doesn't seem to be a big problem and there is not a way to solve it easily (without human intervention for each specific cases).\n",
        "\n",
        "(cf in images : small_network_3.svg (un zoom to see full network), too heavy to fit in codelabs )"
      ]
    },
    {
      "cell_type": "markdown",
      "metadata": {
        "id": "bxnm7vCB5t_j"
      },
      "source": [
        "We save our dataset"
      ]
    },
    {
      "cell_type": "code",
      "metadata": {
        "id": "zcWOJsnnyzMp"
      },
      "source": [
        "def save_as_edge_list(graph, path):\n",
        "  edges = [{'source' : s, 'target' : t, 'type':'undirected','weight' : att['weight']} for s,t,att in graph.edges.data()]\n",
        "  ### wrong format nx.readwrite.edgelist.write_edgelist(G,path)\n",
        "  pd.DataFrame(edges).to_csv(path, index=False)\n",
        "\n",
        "def save_nodes(graph, path):\n",
        "  nodes = [ {'id' : id, 'label' : att['label'], 'kind' : att['kind']} for id, att in graph.nodes.data()]\n",
        "  pd.DataFrame(nodes).to_csv(path, index=False)\n",
        "\n",
        "def save_as_graph_nx(graph, path):\n",
        "  nx.write_adjlist(graph, path)\n",
        "def read_as_graph_nx(path):\n",
        "  return nx.read_adjlist(path)\n",
        "\n",
        "def save_as_pandas(graph, chuncks, path):\n",
        "  all_speakers = [atts['label'] for _, atts in graph.nodes.data() if atts['kind']=='s']\n",
        "  all_journals = [atts['label'] for _, atts in graph.nodes.data() if atts['kind']=='j']\n",
        "\n",
        "  all_speakers = pd.DataFrame({'speaker' : all_speakers})\n",
        "  all_journals = pd.DataFrame({'journal' : all_journals})\n",
        "\n",
        "  header = True\n",
        "\n",
        "  for i, chunck in enumerate(chuncks):\n",
        "    chunck['journal'] = chunck['urls'].apply(lambda x: get_domain(x[0]))\n",
        "    chunck.drop(columns=['quotation', 'phase', 'probas', 'numOccurrences', 'urls'], inplace=True) \n",
        "    chunck = chunck.merge(all_speakers, left_on='speaker', right_on='speaker')\n",
        "    chunck = chunck.merge(all_journals, left_on='journal', right_on='journal')\n",
        "\n",
        "    chunck.to_csv(path, header=header, mode='a')\n",
        "    header = False\n",
        "    \n",
        "    print(i)\n",
        "    if i==-1:\n",
        "      break\n",
        " \n",
        "\n"
      ],
      "execution_count": null,
      "outputs": []
    }
  ]
}