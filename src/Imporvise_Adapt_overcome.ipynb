{
  "nbformat": 4,
  "nbformat_minor": 0,
  "metadata": {
    "colab": {
      "name": "Imporvise Adapt overcome.ipynb",
      "provenance": []
    },
    "kernelspec": {
      "name": "python3",
      "display_name": "Python 3"
    },
    "language_info": {
      "name": "python"
    }
  },
  "cells": [
    {
      "cell_type": "markdown",
      "metadata": {
        "id": "xQGNqmk3P9vb"
      },
      "source": [
        "#Data cleaning and formatting\n",
        "\n",
        "In this notebook, we transform the 2020-quotesbank dataset in a graph. We use the graph to filter the speakers and the journals and to create new datasets."
      ]
    },
    {
      "cell_type": "code",
      "metadata": {
        "colab": {
          "base_uri": "https://localhost:8080/"
        },
        "id": "mvLp_TlANsMs",
        "outputId": "4d8ba328-e929-4f5e-b856-03944f9c9a1f"
      },
      "source": [
        "from google.colab import drive\n",
        "drive.mount('/content/drive')"
      ],
      "execution_count": 1,
      "outputs": [
        {
          "output_type": "stream",
          "name": "stdout",
          "text": [
            "Drive already mounted at /content/drive; to attempt to forcibly remount, call drive.mount(\"/content/drive\", force_remount=True).\n"
          ]
        }
      ]
    },
    {
      "cell_type": "code",
      "metadata": {
        "colab": {
          "base_uri": "https://localhost:8080/"
        },
        "id": "ty4k1UHwOCi7",
        "outputId": "d2ce68ed-c112-412a-c57c-7c391dc15ee5"
      },
      "source": [
        "###you need restart kernel\n",
        "!pip install pandas==1.0.5"
      ],
      "execution_count": 5,
      "outputs": [
        {
          "output_type": "stream",
          "name": "stdout",
          "text": [
            "Requirement already satisfied: pandas==1.0.5 in /usr/local/lib/python3.7/dist-packages (1.0.5)\n",
            "Requirement already satisfied: python-dateutil>=2.6.1 in /usr/local/lib/python3.7/dist-packages (from pandas==1.0.5) (2.8.2)\n",
            "Requirement already satisfied: pytz>=2017.2 in /usr/local/lib/python3.7/dist-packages (from pandas==1.0.5) (2018.9)\n",
            "Requirement already satisfied: numpy>=1.13.3 in /usr/local/lib/python3.7/dist-packages (from pandas==1.0.5) (1.19.5)\n",
            "Requirement already satisfied: six>=1.5 in /usr/local/lib/python3.7/dist-packages (from python-dateutil>=2.6.1->pandas==1.0.5) (1.15.0)\n"
          ]
        }
      ]
    },
    {
      "cell_type": "code",
      "metadata": {
        "id": "_lXe8lrrh4lW"
      },
      "source": [
        "import pathlib\n",
        "import pandas as pd\n",
        "from pathlib import Path\n",
        "import bz2\n",
        "import networkx as nx\n",
        "import seaborn as sns\n",
        "import numpy as np\n",
        "import matplotlib.pyplot as plt  \n",
        "from urllib.parse import urlparse\n"
      ],
      "execution_count": 2,
      "outputs": []
    },
    {
      "cell_type": "code",
      "metadata": {
        "colab": {
          "base_uri": "https://localhost:8080/"
        },
        "id": "u_emrRXANylE",
        "outputId": "5e16b996-e155-423b-d5f8-1bfea976103b"
      },
      "source": [
        "quotebanks = Path('/content/drive/MyDrive/Quotebank')\n",
        "save = Path('/content/drive/MyDrive/Quotebank')\n",
        "quotebanks_2020 = quotebanks/'quotes-2020.json.bz2'\n",
        "quotebanks_2020.exists()"
      ],
      "execution_count": 3,
      "outputs": [
        {
          "output_type": "execute_result",
          "data": {
            "text/plain": [
              "True"
            ]
          },
          "metadata": {},
          "execution_count": 3
        }
      ]
    },
    {
      "cell_type": "markdown",
      "metadata": {
        "id": "thSQBgFFRT9P"
      },
      "source": [
        "In this part, we create an undirected weighted graph. To represent the name of the journal, we use the netloc of the url. When creating the graph we do several things.\n",
        "- We drop the quotes which we don't know the speaker.\n",
        "- We attribute an id to each nodes (the journal and the speaker) to do it, we increment a counter\n",
        "- Each nodes has also 2 attributes : a label (speaker or journal name) and whether it is a journal or a speaker"
      ]
    },
    {
      "cell_type": "code",
      "metadata": {
        "id": "kmbd_MlvRKfX"
      },
      "source": [
        "def get_domain(url):\n",
        "    return  urlparse(url).netloc"
      ],
      "execution_count": 7,
      "outputs": []
    },
    {
      "cell_type": "code",
      "metadata": {
        "id": "O1Pdr4E2Of1x"
      },
      "source": [
        "G = nx.Graph()\n",
        "reader = pd.read_json(quotebanks_2020, lines=True, compression='bz2', chunksize=100000)\n",
        "\n",
        "label_to_nodes_id = dict()\n",
        "id_counter = 0\n",
        "\n",
        "for i, chunck in enumerate(reader):\n",
        "  edges = pd.DataFrame()\n",
        "  chunck = chunck.explode('urls')\n",
        "  edges['speaker'] = chunck['speaker']\n",
        "  edges['journal'] = chunck['urls'].apply(get_domain)\n",
        "  edges = edges[edges.speaker!='None']\n",
        " \n",
        "  for _, row in edges.iterrows():\n",
        "    speaker = row.speaker\n",
        "    journal = row.journal\n",
        "\n",
        "\n",
        "    if not speaker in label_to_nodes_id:\n",
        "      G.add_node(id_counter, label=speaker, kind='s')\n",
        "      label_to_nodes_id[speaker] = id_counter\n",
        "      id_counter += 1\n",
        "    \n",
        "    if not journal in label_to_nodes_id:\n",
        "      G.add_node(id_counter, label=journal, kind='j')\n",
        "      label_to_nodes_id[journal] = id_counter\n",
        "      id_counter += 1\n",
        "    \n",
        "    journal_id = label_to_nodes_id[speaker]\n",
        "    speaker_id = label_to_nodes_id[journal]\n",
        "\n",
        "    if not G.has_edge(journal_id, speaker_id):\n",
        "      G.add_edge(journal_id, speaker_id, weight=1)\n",
        "    else:\n",
        "      G.edges[journal_id, speaker_id]['weight'] += 1\n",
        "  \n",
        "  print(i)\n",
        "  if i==-1:\n",
        "    break"
      ],
      "execution_count": 28,
      "outputs": []
    },
    {
      "cell_type": "code",
      "metadata": {
        "id": "OHmFGUKCbi96"
      },
      "source": [
        "\n",
        "#return an iterator on a (node, degree) list\n",
        "def unweighted_degrees(graph) -> [(int, int)]:\n",
        "  return G.degree()\n",
        "\n",
        "def weighted_degrees(graph) -> [(int, int)]:\n",
        "  return  G.degree(weight='weight')\n",
        "\n",
        "#return a list of the nodes degrees\n",
        "def list_degree(degrees_iterator) -> [int]:\n",
        "  return [degree for id, degree in G.degree]\n",
        "\n",
        "def connected_components(graph):\n",
        "  return nx.connected_components(G)\n",
        "\n",
        "def connected_components_sizes(graph):\n",
        "  return np.array([len(c) for c in connected_components(graph)])\n",
        "\n",
        "def graph_statisics(graph):\n",
        "  print(f'number of nodes {len(graph.nodes)}')\n",
        "  print(f'number of edges {len(graph.edges)}')\n",
        "  print(f'number of connected components {len(connected_components_sizes(graph))}')"
      ],
      "execution_count": 11,
      "outputs": []
    },
    {
      "cell_type": "code",
      "metadata": {
        "id": "04LzC9pgk7Mj"
      },
      "source": [
        "####in place !!!!\n",
        "def remove_nodes_with_degree_less(graph, than=2):\n",
        "  ## we use unweighted degree as better representative of graph connectivity\n",
        "  to_remove =  [ node for node, degree in unweighted_degrees(graph) if degree<=than]\n",
        "  graph.remove_nodes_from(to_remove)\n",
        "  return graph\n",
        "\n",
        "def remove_components_with_size_less(graph, than=8):\n",
        "  components_to_remove = [ component for component in connected_components(graph) if len(component)<=than]\n",
        "  to_remove = [ node for component in components_to_remove for node in component ]\n",
        "  graph.remove_nodes_from(to_remove)\n",
        "  return graph"
      ],
      "execution_count": 29,
      "outputs": []
    },
    {
      "cell_type": "markdown",
      "metadata": {
        "id": "j_F3bxhrdWWb"
      },
      "source": [
        "We analyse the distributions of the nodes degrees, of the weighted nodes degrees and of the size of the connected components. \n",
        "\n",
        "We see it is a power law and we choose to exclude all nodes that have an unweighted degree less than 2. The rational behind it is that nodes with degree one don't cannot help us to cluster better the newspeppers or authors (even if it would be very useful to consider them when exploring a group as they may represent what differentiate a group\n",
        "from other groups). We choose also to exclude nodes with degree 2 as it allows to significantally reduce the numbers of edges and empirically it does not seem to impact the analysis. Depending on the algorithm and the situation the thresold may vary.\n",
        "\n",
        "We keep only connex components that have at least 8 nodes otherwise they are too small to be usefull.\n",
        "\n",
        "We keep *90%* of the edges and *50%* of the nodes and the whole pipline is quite fast more or less 40 minutes and the graph quite small *7* MB. We can handle the amount of data."
      ]
    },
    {
      "cell_type": "code",
      "metadata": {
        "colab": {
          "base_uri": "https://localhost:8080/"
        },
        "id": "DwMnEzdpktyM",
        "outputId": "ba7daa45-a07b-450f-e5fd-bf13847f0d7c"
      },
      "source": [
        "graph_statisics(G)"
      ],
      "execution_count": 30,
      "outputs": [
        {
          "output_type": "stream",
          "name": "stdout",
          "text": [
            "number of nodes 230934\n",
            "number of edges 2572277\n",
            "number of connected components 549\n"
          ]
        }
      ]
    },
    {
      "cell_type": "code",
      "metadata": {
        "colab": {
          "base_uri": "https://localhost:8080/",
          "height": 299
        },
        "id": "YMANfaQMWb-F",
        "outputId": "829542aa-be82-406b-eadf-c1ca3c39fa07"
      },
      "source": [
        "sns.ecdfplot(data=list_degree(unweighted_degrees(G)), complementary=True, log_scale=(True, True), legend=False)\n",
        "\n",
        "plt.title('distributions of unweighted nodes degrees')\n",
        "plt.xlabel('node degree')\n",
        "plt.yscale('log')\n",
        "plt.xscale('log')"
      ],
      "execution_count": 31,
      "outputs": [
        {
          "output_type": "display_data",
          "data": {
            "image/png": "[encoded data removed]",
            "text/plain": [
              "<Figure size 432x288 with 1 Axes>"
            ]
          },
          "metadata": {
            "needs_background": "light"
          }
        }
      ]
    },
    {
      "cell_type": "code",
      "metadata": {
        "colab": {
          "base_uri": "https://localhost:8080/",
          "height": 317
        },
        "id": "oci7vjvdcmvJ",
        "outputId": "3a55c034-839a-43c1-dcb1-4f298802129e"
      },
      "source": [
        "sns.ecdfplot(data=list_degree(weighted_degrees(G)), complementary=True, log_scale=(True, True), legend=False)\n",
        "\n",
        "plt.title('distributions of weighted nodes degrees')\n",
        "plt.xlabel('node degree')"
      ],
      "execution_count": 32,
      "outputs": [
        {
          "output_type": "execute_result",
          "data": {
            "text/plain": [
              "Text(0.5, 0, 'node degree')"
            ]
          },
          "metadata": {},
          "execution_count": 32
        },
        {
          "output_type": "display_data",
          "data": {
            "image/png": "[encoded data removed]",
            "text/plain": [
              "<Figure size 432x288 with 1 Axes>"
            ]
          },
          "metadata": {
            "needs_background": "light"
          }
        }
      ]
    },
    {
      "cell_type": "code",
      "metadata": {
        "colab": {
          "base_uri": "https://localhost:8080/",
          "height": 299
        },
        "id": "bkKC_17chHcl",
        "outputId": "9bf50b8c-c82a-40f9-ad2e-58fd33748f17"
      },
      "source": [
        "sns.ecdfplot(data=connected_components_sizes(G), complementary=True, log_scale=(True, True), legend=False)\n",
        "\n",
        "plt.title('distributions of connected components sizes')\n",
        "plt.xlabel('connected components degrees')\n",
        "plt.yscale('log')\n",
        "plt.xscale('log')"
      ],
      "execution_count": 33,
      "outputs": [
        {
          "output_type": "display_data",
          "data": {
            "image/png": "[encoded data removed]",
            "text/plain": [
              "<Figure size 432x288 with 1 Axes>"
            ]
          },
          "metadata": {
            "needs_background": "light"
          }
        }
      ]
    },
    {
      "cell_type": "code",
      "metadata": {
        "colab": {
          "base_uri": "https://localhost:8080/"
        },
        "id": "Dm8sN8VOm_NW",
        "outputId": "364ed9e5-52fb-43ad-ffe8-65f29fca1209"
      },
      "source": [
        "G = remove_nodes_with_degree_less(G, than=2)\n",
        "graph_statisics(G)"
      ],
      "execution_count": 34,
      "outputs": [
        {
          "output_type": "stream",
          "name": "stdout",
          "text": [
            "number of nodes 110294\n",
            "number of edges 2418246\n",
            "number of connected components 36\n"
          ]
        }
      ]
    },
    {
      "cell_type": "code",
      "metadata": {
        "colab": {
          "base_uri": "https://localhost:8080/"
        },
        "id": "QnLnrc__pAbV",
        "outputId": "81a9d639-08d6-4542-f462-067e934836b1"
      },
      "source": [
        "G = remove_components_with_size_less(G, than=8)\n",
        "graph_statisics(G)"
      ],
      "execution_count": 35,
      "outputs": [
        {
          "output_type": "stream",
          "name": "stdout",
          "text": [
            "number of nodes 110256\n",
            "number of edges 2418243\n",
            "number of connected components 1\n"
          ]
        }
      ]
    },
    {
      "cell_type": "code",
      "metadata": {
        "colab": {
          "base_uri": "https://localhost:8080/",
          "height": 299
        },
        "id": "awtEDcGppWHi",
        "outputId": "d64c731b-a05d-4ca9-a243-f91640265253"
      },
      "source": [
        "sns.ecdfplot(data=list_degree(unweighted_degrees(G)), complementary=True, log_scale=(True, True), legend=False)\n",
        "\n",
        "plt.title('distributions of unweighted nodes degrees')\n",
        "plt.xlabel('node degree')\n",
        "plt.yscale('log')\n",
        "plt.xscale('log')"
      ],
      "execution_count": 36,
      "outputs": [
        {
          "output_type": "display_data",
          "data": {
            "image/png": "[encoded data removed]",
            "text/plain": [
              "<Figure size 432x288 with 1 Axes>"
            ]
          },
          "metadata": {
            "needs_background": "light"
          }
        }
      ]
    },
    {
      "cell_type": "markdown",
      "metadata": {
        "id": "f5AbDGqP8ofV"
      },
      "source": [
        "We visualize the graph and make a basic visual inspection to catch problems in the data. The main problem we identify, is that some entities are represented with several different names (ex *President trump*, *President donald trump*, *donald trump* ..), but with the amount of data we have it doesn't seem to be a big problem and there is not a way to solve it easily (without human intervention for each specific cases).\n",
        "\n",
        "(cf in images : small_network_3.svg (un zoom to see full network), too heavy to fit in codelabs )"
      ]
    },
    {
      "cell_type": "markdown",
      "metadata": {
        "id": "bxnm7vCB5t_j"
      },
      "source": [
        "We save our dataset"
      ]
    },
    {
      "cell_type": "code",
      "metadata": {
        "id": "zcWOJsnnyzMp"
      },
      "source": [
        "def save_as_edge_list(graph, path):\n",
        "  edges = [{'source' : s, 'target' : t, 'type':'undirected','weight' : att['weight']} for s,t,att in graph.edges.data()]\n",
        "  ### wrong format nx.readwrite.edgelist.write_edgelist(G,path)\n",
        "  pd.DataFrame(edges).to_csv(path, index=False)\n",
        "\n",
        "def save_nodes(graph, path):\n",
        "  nodes = [ {'id' : id, 'label' : att['label'], 'kind' : att['kind']} for id, att in graph.nodes.data()]\n",
        "  pd.DataFrame(nodes).to_csv(path, index=False)\n",
        "\n",
        "def save_as_graph_nx(graph, path):\n",
        "  nx.write_adjlist(graph, path)\n",
        "def read_as_graph_nx(path):\n",
        "  return nx.read_adjlist(path)\n",
        "\n",
        "def save_as_pandas(graph, chuncks, path):\n",
        "  all_speakers = [atts['label'] for _, atts in graph.nodes.data() if atts['kind']=='s']\n",
        "  all_journals = [atts['label'] for _, atts in graph.nodes.data() if atts['kind']=='j']\n",
        "\n",
        "  all_speakers = pd.DataFrame({'speaker' : all_speakers})\n",
        "  all_journals = pd.DataFrame({'journal' : all_journals})\n",
        "\n",
        "  header = True\n",
        "\n",
        "  for i, chunck in enumerate(chuncks):\n",
        "    chunck = chunck.explode('urls')\n",
        "    chunck['journal'] = chunck['urls'].apply(get_domain)\n",
        "   \n",
        "\n",
        "    chunck.drop(columns=['quotation', 'phase', 'probas', 'numOccurrences', 'urls'], inplace=True) \n",
        "    chunck = chunck.merge(all_speakers, left_on='speaker', right_on='speaker')\n",
        "    chunck = chunck.merge(all_journals, left_on='journal', right_on='journal')\n",
        "\n",
        "    chunck.to_csv(path, header=header, mode='a', index=False)\n",
        "    header = False\n",
        "    \n",
        "    print(i)\n",
        "    if i==-1:\n",
        "      break\n",
        " \n",
        "\n"
      ],
      "execution_count": 50,
      "outputs": []
    },
    {
      "cell_type": "code",
      "metadata": {
        "id": "6Cc45oXoPNsB"
      },
      "source": [
        "reader = pd.read_json(quotebanks_2020, lines=True, compression='bz2', chunksize=500000)\n",
        "save_as_pandas(G, reader, './small_graph.adjlist.bz2')"
      ],
      "execution_count": null,
      "outputs": []
    }
  ]
}