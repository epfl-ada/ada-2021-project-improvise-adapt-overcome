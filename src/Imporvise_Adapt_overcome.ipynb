{
  "nbformat": 4,
  "nbformat_minor": 0,
  "metadata": {
    "colab": {
      "name": "Imporvise Adapt overcome.ipynb",
      "provenance": [],
      "collapsed_sections": []
    },
    "kernelspec": {
      "name": "python3",
      "display_name": "Python 3"
    },
    "language_info": {
      "name": "python"
    }
  },
  "cells": [
    {
      "cell_type": "markdown",
      "metadata": {
        "id": "xQGNqmk3P9vb"
      },
      "source": [
        "#Data cleaning and formatting\n",
        "\n",
        "In this notebook, we transform the 2020-quotesbank dataset in a graph. We use the graph to filter the speakers and the journals and to create new datasets."
      ]
    },
    {
      "cell_type": "code",
      "metadata": {
        "colab": {
          "base_uri": "https://localhost:8080/"
        },
        "id": "mvLp_TlANsMs",
        "outputId": "cc8250bf-a34f-49ec-87c0-2da501936706"
      },
      "source": [
        "from google.colab import drive\n",
        "drive.mount('/content/drive')"
      ],
      "execution_count": 4,
      "outputs": [
        {
          "output_type": "stream",
          "name": "stdout",
          "text": [
            "Mounted at /content/drive\n"
          ]
        }
      ]
    },
    {
      "cell_type": "code",
      "metadata": {
        "id": "ty4k1UHwOCi7"
      },
      "source": [
        "###you need restart kernel\n",
        "!pip install pandas==1.0.5\n",
        "!pip install tld"
      ],
      "execution_count": null,
      "outputs": []
    },
    {
      "cell_type": "code",
      "metadata": {
        "id": "_lXe8lrrh4lW"
      },
      "source": [
        "import pathlib\n",
        "import pandas as pd\n",
        "from pathlib import Path\n",
        "import bz2\n",
        "import networkx as nx\n",
        "import seaborn as sns\n",
        "import numpy as np\n",
        "import matplotlib.pyplot as plt  \n",
        "from tld import get_fld\n"
      ],
      "execution_count": 1,
      "outputs": []
    },
    {
      "cell_type": "code",
      "metadata": {
        "id": "u_emrRXANylE",
        "colab": {
          "base_uri": "https://localhost:8080/"
        },
        "outputId": "ad230d9f-025d-4aea-8965-acd436512747"
      },
      "source": [
        "quotebanks = Path('/content/drive/MyDrive/Quotebank')\n",
        "save = Path('/content/drive/MyDrive/Quotebank')\n",
        "quotebanks_2020 = quotebanks/'quotes-2020.json.bz2'\n",
        "quotebanks_2020.exists()"
      ],
      "execution_count": 12,
      "outputs": [
        {
          "output_type": "execute_result",
          "data": {
            "text/plain": [
              "True"
            ]
          },
          "metadata": {},
          "execution_count": 12
        }
      ]
    },
    {
      "cell_type": "markdown",
      "metadata": {
        "id": "thSQBgFFRT9P"
      },
      "source": [
        "In this part, we create an undirected weighted graph. To represent the name of the journal, we use the netloc of the url. When creating the graph we do several things.\n",
        "- We drop the quotes which we don't know the speaker or if several possible qid.\n",
        "- We attribute an id to each nodes (the journal and the speaker) to do it, we increment a counter\n",
        "- Each nodes has also 2 attributes : a label (speaker or journal name) and whether it is a journal or a speaker"
      ]
    },
    {
      "cell_type": "code",
      "source": [
        "def get_domain(url):\n",
        "    return get_fld(url, fail_silently=True)"
      ],
      "metadata": {
        "id": "6aTMv1ywRh_s"
      },
      "execution_count": null,
      "outputs": []
    },
    {
      "cell_type": "code",
      "metadata": {
        "id": "O1Pdr4E2Of1x"
      },
      "source": [
        "G = nx.Graph()\n",
        "reader = pd.read_json(quotebanks_2020, lines=True, compression='bz2', chunksize=1000000)\n",
        "\n",
        "label_to_nodes_id = dict()\n",
        "id_counter = 0\n",
        "\n",
        "several_quids = 0\n",
        "no_quids = 0\n",
        "\n",
        "for i, chunck in enumerate(reader):\n",
        "  edges = pd.DataFrame()\n",
        "\n",
        "  chunck['nb_qids'] = chunck.qids.apply(len)\n",
        "  several_quids += len(chunck[chunck.nb_qids>1])\n",
        "  no_quids += len(chunck[(chunck.nb_qids==0) & (chunck.speaker!='None')])\n",
        "  chunck = chunck[chunck.nb_qids==1]\n",
        "\n",
        "  chunck = chunck.explode('urls')\n",
        "  edges['speaker'] = chunck['qids'].apply(lambda x:x[0])\n",
        "  edges['journal'] = chunck['urls'].apply(get_domain)\n",
        "  \n",
        " \n",
        "  for _, row in edges.iterrows():\n",
        "    speaker = row.speaker\n",
        "    journal = row.journal\n",
        "\n",
        "\n",
        "    if not speaker in label_to_nodes_id:\n",
        "      G.add_node(id_counter, label=speaker, kind='s')\n",
        "      label_to_nodes_id[speaker] = id_counter\n",
        "      id_counter += 1\n",
        "    \n",
        "    if not journal in label_to_nodes_id:\n",
        "      G.add_node(id_counter, label=journal, kind='j')\n",
        "      label_to_nodes_id[journal] = id_counter\n",
        "      id_counter += 1\n",
        "    \n",
        "    journal_id = label_to_nodes_id[speaker]\n",
        "    speaker_id = label_to_nodes_id[journal]\n",
        "\n",
        "    if not G.has_edge(journal_id, speaker_id):\n",
        "      G.add_edge(journal_id, speaker_id, weight=1)\n",
        "    else:\n",
        "      G.edges[journal_id, speaker_id]['weight'] += 1\n",
        "  \n",
        "  print(i)\n",
        "  if i==-1:\n",
        "    break\n",
        "\n",
        "print(f'several_quids {several_quids}')\n",
        "print(f'no_quids but speaker known {no_quids}')"
      ],
      "execution_count": null,
      "outputs": []
    },
    {
      "cell_type": "code",
      "metadata": {
        "id": "OHmFGUKCbi96"
      },
      "source": [
        "\n",
        "#return an iterator on a (node, degree) list\n",
        "def unweighted_degrees(graph) -> [(int, int)]:\n",
        "  return G.degree()\n",
        "\n",
        "def weighted_degrees(graph) -> [(int, int)]:\n",
        "  return  G.degree(weight='weight')\n",
        "\n",
        "#return a list of the nodes degrees\n",
        "def list_degree(degrees_iterator) -> [int]:\n",
        "  return [degree for id, degree in G.degree]\n",
        "\n",
        "def connected_components(graph):\n",
        "  return nx.connected_components(G)\n",
        "\n",
        "def connected_components_sizes(graph):\n",
        "  return np.array([len(c) for c in connected_components(graph)])\n",
        "\n",
        "def graph_statisics(graph):\n",
        "  print(f'number of nodes {len(graph.nodes)}')\n",
        "  print(f'number of edges {len(graph.edges)}')\n",
        "  print(f'number of connected components {len(connected_components_sizes(graph))}')"
      ],
      "execution_count": 5,
      "outputs": []
    },
    {
      "cell_type": "code",
      "metadata": {
        "id": "04LzC9pgk7Mj"
      },
      "source": [
        "####in place !!!!\n",
        "def remove_nodes_with_degree_less(graph, than=2):\n",
        "  ## we use unweighted degree as better representative of graph connectivity\n",
        "  to_remove =  [ node for node, degree in unweighted_degrees(graph) if degree<=than]\n",
        "  graph.remove_nodes_from(to_remove)\n",
        "  return graph\n",
        "\n",
        "def remove_components_with_size_less(graph, than=8):\n",
        "  components_to_remove = [ component for component in connected_components(graph) if len(component)<=than]\n",
        "  to_remove = [ node for component in components_to_remove for node in component ]\n",
        "  graph.remove_nodes_from(to_remove)\n",
        "  return graph"
      ],
      "execution_count": 6,
      "outputs": []
    },
    {
      "cell_type": "code",
      "source": [
        "G = nx.read_adjlist('./full_graph.adjlist.bz2')"
      ],
      "metadata": {
        "id": "-XVzSrbVH9xO"
      },
      "execution_count": 2,
      "outputs": []
    },
    {
      "cell_type": "markdown",
      "metadata": {
        "id": "j_F3bxhrdWWb"
      },
      "source": [
        "We analyse the distributions of the nodes degrees, of the weighted nodes degrees and of the size of the connected components. \n",
        "\n",
        "We see it is a power law and we choose to exclude all nodes that have an unweighted degree less than 5. The rational behind it is that nodes with degree one don't cannot help us to cluster better the newspeppers or authors (even if it would be very useful to consider them when exploring a group as they may represent what differentiate a group\n",
        "from other groups). We choose also to exclude nodes with degree 5 as it allows to significantally reduce the numbers of edges and empirically it does not seem to impact the analysis. Depending on the algorithm and the situation the thresold may vary.\n",
        "\n",
        "We keep only connex components that have at least 8 nodes otherwise they are too small to be usefull.\n",
        "\n",
        "We don't do additionnal cleanning/transforming on the quotebanks datasets for now. As, the algorithms we use are robust to misclassified datapoints and we don't encounter more issues in our pipeline for now.\n",
        "\n",
        "We keep *90%* of the edges and *25%* of the nodes and the whole pipline is quite fast more or less 40 minutes and the graph quite small *7* MB. We can handle the amount of data."
      ]
    },
    {
      "cell_type": "code",
      "metadata": {
        "id": "DwMnEzdpktyM",
        "colab": {
          "base_uri": "https://localhost:8080/"
        },
        "outputId": "2221d015-98e7-44c4-afc4-faf1b5bc1d0f"
      },
      "source": [
        "graph_statisics(G)"
      ],
      "execution_count": 7,
      "outputs": [
        {
          "output_type": "stream",
          "name": "stdout",
          "text": [
            "number of nodes 174334\n",
            "number of edges 1727958\n",
            "number of connected components 80\n"
          ]
        }
      ]
    },
    {
      "cell_type": "code",
      "metadata": {
        "id": "YMANfaQMWb-F",
        "colab": {
          "base_uri": "https://localhost:8080/",
          "height": 299
        },
        "outputId": "a374207f-27ad-4fe4-c976-382bdc5a0a4b"
      },
      "source": [
        "sns.ecdfplot(data=list_degree(unweighted_degrees(G)), complementary=True, log_scale=(True, True), legend=False)\n",
        "\n",
        "plt.title('distributions of unweighted nodes degrees')\n",
        "plt.xlabel('node degree')\n",
        "plt.yscale('log')\n",
        "plt.xscale('log')"
      ],
      "execution_count": null,
      "outputs": [
        {
          "output_type": "display_data",
          "data": {
            "image/png": "[encoded data removed]",
            "text/plain": [
              "<Figure size 432x288 with 1 Axes>"
            ]
          },
          "metadata": {
            "needs_background": "light"
          }
        }
      ]
    },
    {
      "cell_type": "code",
      "source": [
        "\n",
        "\n",
        "sns.ecdfplot(data=list_degree(unweighted_degrees(G)), complementary=True, log_scale=(True, True), legend=False)\n",
        "\n",
        "plt.title('distributions of unweighted nodes degrees')\n",
        "plt.xlabel('node degree')\n",
        "plt.yscale('log')\n",
        "plt.xscale('log')"
      ],
      "metadata": {
        "colab": {
          "base_uri": "https://localhost:8080/",
          "height": 299
        },
        "id": "40SecPlSIwWu",
        "outputId": "23e1b740-ea59-422f-ce98-28996e123476"
      },
      "execution_count": null,
      "outputs": [
        {
          "output_type": "display_data",
          "data": {
            "image/png": "[encoded data removed]",
            "text/plain": [
              "<Figure size 432x288 with 1 Axes>"
            ]
          },
          "metadata": {
            "needs_background": "light"
          }
        }
      ]
    },
    {
      "cell_type": "code",
      "metadata": {
        "id": "oci7vjvdcmvJ",
        "colab": {
          "base_uri": "https://localhost:8080/",
          "height": 317
        },
        "outputId": "3890506b-c842-421e-c5c9-b273a780ad72"
      },
      "source": [
        "sns.ecdfplot(data=list_degree(weighted_degrees(G)), complementary=True, log_scale=(True, True), legend=False)\n",
        "\n",
        "plt.title('distributions of weighted nodes degrees')\n",
        "plt.xlabel('node degree')"
      ],
      "execution_count": null,
      "outputs": [
        {
          "output_type": "execute_result",
          "data": {
            "text/plain": [
              "Text(0.5, 0, 'node degree')"
            ]
          },
          "metadata": {},
          "execution_count": 8
        },
        {
          "output_type": "display_data",
          "data": {
            "image/png": "[encoded data removed]",
            "text/plain": [
              "<Figure size 432x288 with 1 Axes>"
            ]
          },
          "metadata": {
            "needs_background": "light"
          }
        }
      ]
    },
    {
      "cell_type": "code",
      "metadata": {
        "id": "bkKC_17chHcl",
        "colab": {
          "base_uri": "https://localhost:8080/",
          "height": 299
        },
        "outputId": "954ccc77-578f-4ae2-e53b-68fd99324010"
      },
      "source": [
        "sns.ecdfplot(data=connected_components_sizes(G), complementary=True, log_scale=(True, True), legend=False)\n",
        "\n",
        "plt.title('distributions of connected components sizes')\n",
        "plt.xlabel('connected components degrees')\n",
        "plt.yscale('log')\n",
        "plt.xscale('log')"
      ],
      "execution_count": null,
      "outputs": [
        {
          "output_type": "display_data",
          "data": {
            "image/png": "[encoded data removed]",
            "text/plain": [
              "<Figure size 432x288 with 1 Axes>"
            ]
          },
          "metadata": {
            "needs_background": "light"
          }
        }
      ]
    },
    {
      "cell_type": "code",
      "metadata": {
        "id": "Dm8sN8VOm_NW",
        "colab": {
          "base_uri": "https://localhost:8080/"
        },
        "outputId": "5267e8f9-8392-4641-8073-8fd7fc4b2194"
      },
      "source": [
        "G = remove_nodes_with_degree_less(G, than=5)\n",
        "graph_statisics(G)"
      ],
      "execution_count": 8,
      "outputs": [
        {
          "output_type": "stream",
          "name": "stdout",
          "text": [
            "number of nodes 46491\n",
            "number of edges 1488693\n",
            "number of connected components 5\n"
          ]
        }
      ]
    },
    {
      "cell_type": "code",
      "metadata": {
        "id": "QnLnrc__pAbV",
        "colab": {
          "base_uri": "https://localhost:8080/"
        },
        "outputId": "9ee7e638-c742-463e-c615-1da0c963a0d0"
      },
      "source": [
        "G = remove_components_with_size_less(G, than=8)\n",
        "graph_statisics(G)"
      ],
      "execution_count": 9,
      "outputs": [
        {
          "output_type": "stream",
          "name": "stdout",
          "text": [
            "number of nodes 46487\n",
            "number of edges 1488693\n",
            "number of connected components 1\n"
          ]
        }
      ]
    },
    {
      "cell_type": "code",
      "metadata": {
        "id": "awtEDcGppWHi",
        "colab": {
          "base_uri": "https://localhost:8080/",
          "height": 299
        },
        "outputId": "f9d4e995-b0fa-4c0a-effb-9d30e57e9e84"
      },
      "source": [
        "sns.ecdfplot(data=list_degree(unweighted_degrees(G)), complementary=True, log_scale=(True, True), legend=False)\n",
        "\n",
        "plt.title('distributions of unweighted nodes degrees')\n",
        "plt.xlabel('node degree')\n",
        "plt.yscale('log')\n",
        "plt.xscale('log')"
      ],
      "execution_count": 10,
      "outputs": [
        {
          "output_type": "display_data",
          "data": {
            "image/png": "[encoded data removed]",
            "text/plain": [
              "<Figure size 432x288 with 1 Axes>"
            ]
          },
          "metadata": {
            "needs_background": "light"
          }
        }
      ]
    },
    {
      "cell_type": "markdown",
      "metadata": {
        "id": "f5AbDGqP8ofV"
      },
      "source": [
        "We visualize the graph and make a basic visual inspection to catch problems in the data. The main problem we identify, is that some entities are represented with several different names (ex *President trump*, *President donald trump*, *donald trump* ..). Thus, we choose to use qid to represent a speaker.\n",
        "\n",
        "(cf [graph visualisation](https://github.com/epfl-ada/ada-2021-project-improvise-adapt-overcome/blob/master/src/images/small_network_3.svg), too big to fit in the notebook )"
      ]
    },
    {
      "cell_type": "markdown",
      "metadata": {
        "id": "bxnm7vCB5t_j"
      },
      "source": [
        "We save our dataset"
      ]
    },
    {
      "cell_type": "code",
      "metadata": {
        "id": "zcWOJsnnyzMp"
      },
      "source": [
        "def save_as_edge_list(graph, path):\n",
        "  edges = [{'source' : s, 'target' : t, 'type':'undirected','weight' : att['weight']} for s,t,att in graph.edges.data()]\n",
        "  ### wrong format nx.readwrite.edgelist.write_edgelist(G,path)\n",
        "  pd.DataFrame(edges).to_csv(path, index=False)\n",
        "\n",
        "def save_nodes(graph, path):\n",
        "  nodes = [ {'id' : id, 'label' : att['label'], 'kind' : att['kind']} for id, att in graph.nodes.data()]\n",
        "  pd.DataFrame(nodes).to_csv(path, index=False)\n",
        "\n",
        "def save_as_graph_nx(graph, path):\n",
        "  nx.write_adjlist(graph, path)\n",
        "def read_as_graph_nx(path):\n",
        "  return nx.read_adjlist(path)\n",
        "\n",
        "def save_as_pandas(graph, chuncks, path):\n",
        "  all_speakers = [atts['label'] for _, atts in graph.nodes.data() if atts['kind']=='s']\n",
        "  all_journals = [atts['label'] for _, atts in graph.nodes.data() if atts['kind']=='j']\n",
        "\n",
        "  all_speakers = pd.DataFrame({'qids' : all_speakers})\n",
        "  all_journals = pd.DataFrame({'journal' : all_journals})\n",
        "\n",
        "  header = True\n",
        "\n",
        "  for i, chunck in enumerate(chuncks):\n",
        "    chunck['nb_qids'] = chunck.qids.apply(len)\n",
        "    chunck = chunck[chunck.nb_qids==1]\n",
        "    chunck['qids'] = chunck.qids.apply(lambda x:x[0])\n",
        "    chunck = chunck.explode('urls')\n",
        "    chunck['journal'] = chunck['urls'].apply(get_domain)\n",
        "   \n",
        "\n",
        "    chunck.drop(columns=['quotation', 'phase', 'speaker', 'probas', 'nb_qids', 'numOccurrences', 'urls'], inplace=True) \n",
        "    chunck = chunck.merge(all_speakers, left_on='qids', right_on='qids')\n",
        "    chunck = chunck.merge(all_journals, left_on='journal', right_on='journal')\n",
        "\n",
        "    chunck.to_csv(path, header=header, mode='a', index=False)\n",
        "    header = False\n",
        "    \n",
        "    print(i)\n",
        "    if i==-1:\n",
        "      break\n",
        " \n",
        "\n"
      ],
      "execution_count": null,
      "outputs": []
    },
    {
      "cell_type": "code",
      "metadata": {
        "id": "6Cc45oXoPNsB"
      },
      "source": [
        "reader = pd.read_json(quotebanks_2020, lines=True, compression='bz2', chunksize=500000)\n",
        "save_as_pandas(G, reader, './clean_quotes.csv.bz2')"
      ],
      "execution_count": null,
      "outputs": []
    },
    {
      "cell_type": "code",
      "source": [
        "clean_quotes = save/'clean_quotes.csv.bz2'\n",
        "data = pd.read_csv(clean_quotes)\n",
        "data.head(4)"
      ],
      "metadata": {
        "id": "bYXhbJaFT4ik",
        "colab": {
          "base_uri": "https://localhost:8080/",
          "height": 175
        },
        "outputId": "1aec7810-6498-40ae-a852-44b32f41fc49"
      },
      "execution_count": 13,
      "outputs": [
        {
          "output_type": "execute_result",
          "data": {
            "text/html": [
              "\n",
              "  <div id=\"df-3194f02a-67de-4984-99e6-7244637b995a\">\n",
              "    <div class=\"colab-df-container\">\n",
              "      <div>\n",
              "<style scoped>\n",
              "    .dataframe tbody tr th:only-of-type {\n",
              "        vertical-align: middle;\n",
              "    }\n",
              "\n",
              "    .dataframe tbody tr th {\n",
              "        vertical-align: top;\n",
              "    }\n",
              "\n",
              "    .dataframe thead th {\n",
              "        text-align: right;\n",
              "    }\n",
              "</style>\n",
              "<table border=\"1\" class=\"dataframe\">\n",
              "  <thead>\n",
              "    <tr style=\"text-align: right;\">\n",
              "      <th></th>\n",
              "      <th>quoteID</th>\n",
              "      <th>qids</th>\n",
              "      <th>date</th>\n",
              "      <th>journal</th>\n",
              "    </tr>\n",
              "  </thead>\n",
              "  <tbody>\n",
              "    <tr>\n",
              "      <th>0</th>\n",
              "      <td>2020-01-24-000168</td>\n",
              "      <td>Q20684375</td>\n",
              "      <td>2020-01-24 20:37:09</td>\n",
              "      <td>people.com</td>\n",
              "    </tr>\n",
              "    <tr>\n",
              "      <th>1</th>\n",
              "      <td>2020-01-24-000168</td>\n",
              "      <td>Q20684375</td>\n",
              "      <td>2020-01-24 20:37:09</td>\n",
              "      <td>people.com</td>\n",
              "    </tr>\n",
              "    <tr>\n",
              "      <th>2</th>\n",
              "      <td>2020-01-24-000168</td>\n",
              "      <td>Q20684375</td>\n",
              "      <td>2020-01-24 20:37:09</td>\n",
              "      <td>people.com</td>\n",
              "    </tr>\n",
              "    <tr>\n",
              "      <th>3</th>\n",
              "      <td>2020-01-21-031706</td>\n",
              "      <td>Q20684375</td>\n",
              "      <td>2020-01-21 22:56:34</td>\n",
              "      <td>people.com</td>\n",
              "    </tr>\n",
              "  </tbody>\n",
              "</table>\n",
              "</div>\n",
              "      <button class=\"colab-df-convert\" onclick=\"convertToInteractive('df-3194f02a-67de-4984-99e6-7244637b995a')\"\n",
              "              title=\"Convert this dataframe to an interactive table.\"\n",
              "              style=\"display:none;\">\n",
              "        \n",
              "  <svg xmlns=\"http://www.w3.org/2000/svg\" height=\"24px\"viewBox=\"0 0 24 24\"\n",
              "       width=\"24px\">\n",
              "    <path d=\"M0 0h24v24H0V0z\" fill=\"none\"/>\n",
              "    <path d=\"M18.56 5.44l.94 2.06.94-2.06 2.06-.94-2.06-.94-.94-2.06-.94 2.06-2.06.94zm-11 1L8.5 8.5l.94-2.06 2.06-.94-2.06-.94L8.5 2.5l-.94 2.06-2.06.94zm10 10l.94 2.06.94-2.06 2.06-.94-2.06-.94-.94-2.06-.94 2.06-2.06.94z\"/><path d=\"M17.41 7.96l-1.37-1.37c-.4-.4-.92-.59-1.43-.59-.52 0-1.04.2-1.43.59L10.3 9.45l-7.72 7.72c-.78.78-.78 2.05 0 2.83L4 21.41c.39.39.9.59 1.41.59.51 0 1.02-.2 1.41-.59l7.78-7.78 2.81-2.81c.8-.78.8-2.07 0-2.86zM5.41 20L4 18.59l7.72-7.72 1.47 1.35L5.41 20z\"/>\n",
              "  </svg>\n",
              "      </button>\n",
              "      \n",
              "  <style>\n",
              "    .colab-df-container {\n",
              "      display:flex;\n",
              "      flex-wrap:wrap;\n",
              "      gap: 12px;\n",
              "    }\n",
              "\n",
              "    .colab-df-convert {\n",
              "      background-color: #E8F0FE;\n",
              "      border: none;\n",
              "      border-radius: 50%;\n",
              "      cursor: pointer;\n",
              "      display: none;\n",
              "      fill: #1967D2;\n",
              "      height: 32px;\n",
              "      padding: 0 0 0 0;\n",
              "      width: 32px;\n",
              "    }\n",
              "\n",
              "    .colab-df-convert:hover {\n",
              "      background-color: #E2EBFA;\n",
              "      box-shadow: 0px 1px 2px rgba(60, 64, 67, 0.3), 0px 1px 3px 1px rgba(60, 64, 67, 0.15);\n",
              "      fill: #174EA6;\n",
              "    }\n",
              "\n",
              "    [theme=dark] .colab-df-convert {\n",
              "      background-color: #3B4455;\n",
              "      fill: #D2E3FC;\n",
              "    }\n",
              "\n",
              "    [theme=dark] .colab-df-convert:hover {\n",
              "      background-color: #434B5C;\n",
              "      box-shadow: 0px 1px 3px 1px rgba(0, 0, 0, 0.15);\n",
              "      filter: drop-shadow(0px 1px 2px rgba(0, 0, 0, 0.3));\n",
              "      fill: #FFFFFF;\n",
              "    }\n",
              "  </style>\n",
              "\n",
              "      <script>\n",
              "        const buttonEl =\n",
              "          document.querySelector('#df-3194f02a-67de-4984-99e6-7244637b995a button.colab-df-convert');\n",
              "        buttonEl.style.display =\n",
              "          google.colab.kernel.accessAllowed ? 'block' : 'none';\n",
              "\n",
              "        async function convertToInteractive(key) {\n",
              "          const element = document.querySelector('#df-3194f02a-67de-4984-99e6-7244637b995a');\n",
              "          const dataTable =\n",
              "            await google.colab.kernel.invokeFunction('convertToInteractive',\n",
              "                                                     [key], {});\n",
              "          if (!dataTable) return;\n",
              "\n",
              "          const docLinkHtml = 'Like what you see? Visit the ' +\n",
              "            '<a target=\"_blank\" href=https://colab.research.google.com/notebooks/data_table.ipynb>data table notebook</a>'\n",
              "            + ' to learn more about interactive tables.';\n",
              "          element.innerHTML = '';\n",
              "          dataTable['output_type'] = 'display_data';\n",
              "          await google.colab.output.renderOutput(dataTable, element);\n",
              "          const docLink = document.createElement('div');\n",
              "          docLink.innerHTML = docLinkHtml;\n",
              "          element.appendChild(docLink);\n",
              "        }\n",
              "      </script>\n",
              "    </div>\n",
              "  </div>\n",
              "  "
            ],
            "text/plain": [
              "             quoteID       qids                 date     journal\n",
              "0  2020-01-24-000168  Q20684375  2020-01-24 20:37:09  people.com\n",
              "1  2020-01-24-000168  Q20684375  2020-01-24 20:37:09  people.com\n",
              "2  2020-01-24-000168  Q20684375  2020-01-24 20:37:09  people.com\n",
              "3  2020-01-21-031706  Q20684375  2020-01-21 22:56:34  people.com"
            ]
          },
          "metadata": {},
          "execution_count": 13
        }
      ]
    }
  ]
}