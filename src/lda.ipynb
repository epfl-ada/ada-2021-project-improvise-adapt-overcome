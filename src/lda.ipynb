{
 "cells": [
  {
   "cell_type": "markdown",
   "metadata": {},
   "source": [
    "To be able to run this notebook, one has to install the gensim and nltk packages:\n",
    "```\n",
    "conda install -c anaconda nltk\n",
    "conda install -c anaconda gensim\n",
    "```"
   ]
  },
  {
   "cell_type": "markdown",
   "metadata": {},
   "source": [
    "## Describing topics from a cluster using LDA"
   ]
  },
  {
   "cell_type": "markdown",
   "metadata": {},
   "source": [
    "### Useful libraries\n",
    "We will be using the Gensim and Natural Language Toolkit (NLTK) to help us process the quotes' text. "
   ]
  },
  {
   "cell_type": "code",
   "execution_count": 1,
   "metadata": {},
   "outputs": [],
   "source": [
    "import pandas as pd\n",
    "import numpy as np"
   ]
  },
  {
   "cell_type": "code",
   "execution_count": 2,
   "metadata": {},
   "outputs": [
    {
     "name": "stderr",
     "output_type": "stream",
     "text": [
      "[nltk_data] Downloading package wordnet to C:\\Users\\Julian\n",
      "[nltk_data]     Blackwell\\AppData\\Roaming\\nltk_data...\n",
      "[nltk_data]   Package wordnet is already up-to-date!\n",
      "C:\\Users\\Julian Blackwell\\anaconda3\\envs\\ada\\lib\\site-packages\\gensim\\similarities\\__init__.py:15: UserWarning: The gensim.similarities.levenshtein submodule is disabled, because the optional Levenshtein package <https://pypi.org/project/python-Levenshtein/> is unavailable. Install Levenhstein (e.g. `pip install python-Levenshtein`) to suppress this warning.\n",
      "  warnings.warn(msg)\n"
     ]
    }
   ],
   "source": [
    "import nltk\n",
    "nltk.download('wordnet')\n",
    "\n",
    "from gensim import corpora\n",
    "from gensim.utils import simple_preprocess\n",
    "from gensim.models import LdaModel, LdaMulticore\n",
    "from gensim.models.phrases import Phrases\n",
    "from gensim.parsing.preprocessing import STOPWORDS\n",
    "from nltk.stem import WordNetLemmatizer\n",
    "from nltk.stem.snowball import EnglishStemmer\n",
    "\n",
    "\n",
    "lemmatizer = WordNetLemmatizer()\n",
    "stemmer = EnglishStemmer()"
   ]
  },
  {
   "cell_type": "markdown",
   "metadata": {},
   "source": [
    "### Text preprocessing\n",
    "We first preprocess the quotes:\n",
    "- Split text into words, apply lowercase, and remove punctuation\n",
    "- Ignore words of length < 3\n",
    "- Remove stopwords\n",
    "- Lemmatize words \n",
    "- Add bigrams"
   ]
  },
  {
   "cell_type": "code",
   "execution_count": 3,
   "metadata": {},
   "outputs": [],
   "source": [
    "def lemmatize(word):\n",
    "    'Apply lemmatization to a word'\n",
    "    # Important note: For the moment a default tag 'n' for nouns is used\n",
    "    # To improve: find and set the correct tag for each word\n",
    "    return lemmatizer.lemmatize(word, pos='n')\n",
    "\n",
    "def stem(word):\n",
    "    'Apply stemming to a word'\n",
    "    return stemmer.stem(word)\n",
    "\n",
    "def preprocess_quotes(qs):\n",
    "    'Split quote into words, apply lowercase, remove punctuation, ignore words of length < 3, remove stopwords'\n",
    "    processed_quotes = []\n",
    "    for q in qs:\n",
    "        processed = []\n",
    "        # Convert quote to list of lowercase tokens, ignoring those w/ length < 3\n",
    "        for token in simple_preprocess(q, min_len=3):\n",
    "            # Ignore stopwords\n",
    "            if token not in STOPWORDS:\n",
    "                # Lemmatize and stem token\n",
    "                processed.append(lemmatize(token))\n",
    "        processed_quotes.append(processed)\n",
    "    \n",
    "    # Add bigrams\n",
    "    bigram = Phrases(processed_quotes, min_count=10, delimiter='_')\n",
    "    for i in range(len(processed_quotes)):\n",
    "        for token in bigram[processed_quotes[i]]:\n",
    "            if '_' in token:\n",
    "                # Add token to quote if it is a bigram\n",
    "                processed_quotes[i].append(token)\n",
    "    \n",
    "    return processed_quotes"
   ]
  },
  {
   "cell_type": "markdown",
   "metadata": {},
   "source": [
    "**Note**: We can consider adding n-grams (bigrams at least) to bunch words that appear frequently together"
   ]
  },
  {
   "cell_type": "markdown",
   "metadata": {},
   "source": [
    "### Produce bag of words\n",
    "We then map our preprocessed quotes to produce a \"bag of words corpus\" which is a dictionary of words and their frequency."
   ]
  },
  {
   "cell_type": "code",
   "execution_count": 4,
   "metadata": {},
   "outputs": [],
   "source": [
    "def produce_bow_corpus(processed_qs):\n",
    "    'Produce a bag of words corpus given processed quotes'\n",
    "    dictionary = corpora.Dictionary(processed_qs)\n",
    "    dictionary.filter_extremes(no_below=5, no_above=0.5)\n",
    "    return [dictionary.doc2bow(q, allow_update=True) for q in processed_qs], dictionary"
   ]
  },
  {
   "cell_type": "markdown",
   "metadata": {},
   "source": [
    "### Saving and loading BOW corpus\n",
    "We provide code to save and load a corpus we produced to avoid repeating computation."
   ]
  },
  {
   "cell_type": "code",
   "execution_count": 5,
   "metadata": {},
   "outputs": [],
   "source": [
    "def save_bow_corpus(bow_corpus, file_id='0'):\n",
    "    'Save a bag of words corpus with a given identifier'\n",
    "    corpora.MmCorpus.serialize('./data/BOW_corpus_{}.mm'.format(file_id), bow_corpus)\n",
    "    \n",
    "def load_bow_corpus(file_id='0'):\n",
    "    'Load a bag of words corpus with a given identifier'\n",
    "    return corpora.MmCorpus('./data/BOW_corpus_{}.mm'.format(file_id))"
   ]
  },
  {
   "cell_type": "markdown",
   "metadata": {},
   "source": [
    "### Use LDA to extract topics\n",
    "We now run LDA on our bag of words corpus."
   ]
  },
  {
   "cell_type": "code",
   "execution_count": 6,
   "metadata": {},
   "outputs": [],
   "source": [
    "def lda_model(bow_corpus, id2word, n_topics):\n",
    "    return LdaMulticore(corpus=bow_corpus, num_topics=n_topics, id2word=id2word, workers=6, passes=10, random_state=123)"
   ]
  },
  {
   "cell_type": "markdown",
   "metadata": {},
   "source": [
    "### Putting everything together"
   ]
  },
  {
   "cell_type": "code",
   "execution_count": 33,
   "metadata": {},
   "outputs": [],
   "source": [
    "# LDA Pipeline\n",
    "def get_lda_model(quotes, n_topics):\n",
    "    '''Return LDA model'''\n",
    "    processed_quotes = preprocess_quotes(quotes)\n",
    "    bow, wordmap = produce_bow_corpus(processed_quotes)\n",
    "    model = lda_model(bow, wordmap, n_topics)\n",
    "    return model\n",
    "        \n",
    "def model_topics(model):\n",
    "    '''Show top 10 words for each topic'''\n",
    "    for topic_id, words in model.show_topics(formatted=False):\n",
    "        print(topic_id, [x[0] for x in words])\n",
    "        \n",
    "# --- SAVING AND LOADING LDA MODEL --- #\n",
    "def save_model(model, file_name):\n",
    "    model.save('../datasets/lda/'+file_name)\n",
    "    \n",
    "def load_model(file_name):\n",
    "    return LdaModel.load('../datasets/lda/'+file_name)"
   ]
  },
  {
   "cell_type": "markdown",
   "metadata": {},
   "source": [
    "Here is the gensim documentation on LDA as reference: https://radimrehurek.com/gensim/models/ldamodel.html"
   ]
  },
  {
   "cell_type": "markdown",
   "metadata": {},
   "source": [
    "### Load data"
   ]
  },
  {
   "cell_type": "code",
   "execution_count": 8,
   "metadata": {},
   "outputs": [],
   "source": [
    "CLEAN_QUOTES = '../data/clean_quotes.csv.bz2'\n",
    "CLUSTERS = '../data/clusters.csv.bz2'\n",
    "QUOTES_PATH = '../data/quotes-2020.json.bz2'"
   ]
  },
  {
   "cell_type": "code",
   "execution_count": 9,
   "metadata": {},
   "outputs": [
    {
     "data": {
      "text/html": [
       "<div>\n",
       "<style scoped>\n",
       "    .dataframe tbody tr th:only-of-type {\n",
       "        vertical-align: middle;\n",
       "    }\n",
       "\n",
       "    .dataframe tbody tr th {\n",
       "        vertical-align: top;\n",
       "    }\n",
       "\n",
       "    .dataframe thead th {\n",
       "        text-align: right;\n",
       "    }\n",
       "</style>\n",
       "<table border=\"1\" class=\"dataframe\">\n",
       "  <thead>\n",
       "    <tr style=\"text-align: right;\">\n",
       "      <th></th>\n",
       "      <th>quoteID</th>\n",
       "      <th>journal</th>\n",
       "    </tr>\n",
       "  </thead>\n",
       "  <tbody>\n",
       "    <tr>\n",
       "      <th>0</th>\n",
       "      <td>2020-01-24-000168</td>\n",
       "      <td>people.com</td>\n",
       "    </tr>\n",
       "    <tr>\n",
       "      <th>3</th>\n",
       "      <td>2020-01-21-031706</td>\n",
       "      <td>people.com</td>\n",
       "    </tr>\n",
       "  </tbody>\n",
       "</table>\n",
       "</div>"
      ],
      "text/plain": [
       "             quoteID     journal\n",
       "0  2020-01-24-000168  people.com\n",
       "3  2020-01-21-031706  people.com"
      ]
     },
     "execution_count": 9,
     "metadata": {},
     "output_type": "execute_result"
    }
   ],
   "source": [
    "clean_quotes = pd.read_csv(CLEAN_QUOTES).drop_duplicates()[['quoteID', 'journal']]\n",
    "clean_quotes.head(2)"
   ]
  },
  {
   "cell_type": "code",
   "execution_count": 10,
   "metadata": {
    "scrolled": true
   },
   "outputs": [
    {
     "data": {
      "text/plain": [
       "journal\n",
       "1011now.com      -1.0\n",
       "1070thefan.com   -1.0\n",
       "Name: cluster_id, dtype: float64"
      ]
     },
     "execution_count": 10,
     "metadata": {},
     "output_type": "execute_result"
    }
   ],
   "source": [
    "cluster_assignments = pd.read_csv(CLUSTERS, index_col=0)['cluster_id']\n",
    "cluster_assignments.head(2)"
   ]
  },
  {
   "cell_type": "code",
   "execution_count": 15,
   "metadata": {},
   "outputs": [],
   "source": [
    "clustered = cluster_assignments.groupby(cluster_assignments)"
   ]
  },
  {
   "cell_type": "code",
   "execution_count": 16,
   "metadata": {},
   "outputs": [
    {
     "name": "stdout",
     "output_type": "stream",
     "text": [
      "Number of clusters: 15\n"
     ]
    }
   ],
   "source": [
    "n_clusters = len(cluster_assignments.unique()) - 1 # ignore noise cluster (-1 assignemnt)\n",
    "print(f'Number of clusters: {n_clusters}')"
   ]
  },
  {
   "cell_type": "code",
   "execution_count": 17,
   "metadata": {},
   "outputs": [],
   "source": [
    "groups = [clustered.get_group(n) for n in range(n_clusters)]"
   ]
  },
  {
   "cell_type": "code",
   "execution_count": 18,
   "metadata": {},
   "outputs": [
    {
     "name": "stdout",
     "output_type": "stream",
     "text": [
      "Processing chunk\n",
      "Processing chunk\n",
      "Processing chunk\n",
      "Processing chunk\n",
      "Processing chunk\n",
      "Processing chunk\n",
      "Done processing!\n"
     ]
    }
   ],
   "source": [
    "quotes = []\n",
    "\n",
    "def process_chunk(chunk):\n",
    "        print(f'Processing chunk')\n",
    "        quotes.append(chunk[['quoteID', 'quotation']])      \n",
    "\n",
    "with pd.read_json(QUOTES_PATH, lines=True, compression='bz2', chunksize=1000000) as df_reader:\n",
    "    for chunk in df_reader:\n",
    "        process_chunk(chunk)\n",
    "print('Done processing!')\n",
    "        \n",
    "quotes = pd.concat(quotes)"
   ]
  },
  {
   "cell_type": "code",
   "execution_count": 19,
   "metadata": {},
   "outputs": [],
   "source": [
    "# {Quotation ID -> Quotation} dictionary for fast retrieval\n",
    "quotes_dict = dict(quotes.values)"
   ]
  },
  {
   "cell_type": "code",
   "execution_count": 22,
   "metadata": {},
   "outputs": [
    {
     "data": {
      "text/plain": [
       "0    2020-04-06-037825\n",
       "1    2020-04-06-060329\n",
       "Name: quoteID, dtype: object"
      ]
     },
     "execution_count": 22,
     "metadata": {},
     "output_type": "execute_result"
    }
   ],
   "source": [
    "# Match quote IDs to their clusters\n",
    "ids = [clean_quotes.merge(groups[i], on='journal')['quoteID'] for i in range(len(groups))]\n",
    "ids[0][:2]"
   ]
  },
  {
   "cell_type": "code",
   "execution_count": 23,
   "metadata": {},
   "outputs": [
    {
     "data": {
      "text/plain": [
       "[\"Right now we're just reacting to... it's a different retail chain, whether we could get physical copies to people, is the internet infrastructure there to support all countries... We're right now looking at all sorts of different options,\",\n",
       " \"We'd rather put our focus on finishing the actual game and getting it to people,\"]"
      ]
     },
     "execution_count": 23,
     "metadata": {},
     "output_type": "execute_result"
    }
   ],
   "source": [
    "# Obtain cluster quotes\n",
    "cluster_quotes = [[quotes_dict[id_] for id_ in ids[i]] for i in range(len(ids))]\n",
    "cluster_quotes[0][:2]"
   ]
  },
  {
   "cell_type": "code",
   "execution_count": 25,
   "metadata": {
    "scrolled": true
   },
   "outputs": [
    {
     "name": "stdout",
     "output_type": "stream",
     "text": [
      "Cluster 0: 2602 quotes\n",
      "Cluster 1: 15305 quotes\n",
      "Cluster 2: 44992 quotes\n",
      "Cluster 3: 85009 quotes\n",
      "Cluster 4: 24309 quotes\n",
      "Cluster 5: 25059 quotes\n",
      "Cluster 6: 196466 quotes\n",
      "Cluster 7: 504899 quotes\n",
      "Cluster 8: 1309483 quotes\n",
      "Cluster 9: 9287 quotes\n",
      "Cluster 10: 36923 quotes\n",
      "Cluster 11: 335119 quotes\n",
      "Cluster 12: 239235 quotes\n",
      "Cluster 13: 12086 quotes\n",
      "Cluster 14: 2163368 quotes\n"
     ]
    }
   ],
   "source": [
    "for i in range(len(cluster_quotes)):\n",
    "    print(f'Cluster {i}: {len(cluster_quotes[i])} quotes')"
   ]
  },
  {
   "cell_type": "code",
   "execution_count": 35,
   "metadata": {},
   "outputs": [
    {
     "name": "stdout",
     "output_type": "stream",
     "text": [
      "Processing cluster 0\n",
      "Saving LDA model...\n",
      "Processing cluster 1\n",
      "Saving LDA model...\n",
      "Processing cluster 2\n",
      "Saving LDA model...\n",
      "Processing cluster 3\n",
      "Saving LDA model...\n",
      "Processing cluster 4\n",
      "Saving LDA model...\n",
      "Processing cluster 5\n",
      "Saving LDA model...\n",
      "Processing cluster 6\n",
      "Saving LDA model...\n",
      "Processing cluster 7\n",
      "Saving LDA model...\n",
      "Processing cluster 8\n",
      "Saving LDA model...\n",
      "Processing cluster 9\n",
      "Saving LDA model...\n",
      "Processing cluster 10\n",
      "Saving LDA model...\n",
      "Processing cluster 11\n",
      "Saving LDA model...\n",
      "Processing cluster 12\n",
      "Saving LDA model...\n",
      "Processing cluster 13\n",
      "Saving LDA model...\n",
      "Processing cluster 14\n",
      "Saving LDA model...\n"
     ]
    }
   ],
   "source": [
    "# Run LDA on each cluster\n",
    "for i in range(n_clusters):\n",
    "    print(f'Processing cluster {i}')\n",
    "    model = get_lda_model(cluster_quotes[i], 8)\n",
    "    print(f'Saving LDA model...')\n",
    "    save_model(model, f'cluster-{i}')"
   ]
  },
  {
   "cell_type": "code",
   "execution_count": 36,
   "metadata": {},
   "outputs": [
    {
     "name": "stdout",
     "output_type": "stream",
     "text": [
      "Cluster 0 topics:\n",
      "0 ['thing', 'game', 'people', 'time', 'right', 'title', 'like', 'experience', 'box', 'child']\n",
      "1 ['game', 'people', 'play', 'working', 'health', 'year', 'video', 'experience', 'help', 'video_game']\n",
      "2 ['game', 'know', 'like', 'new', 'year', 'want', 'feel', 'idea', 'think', 'project']\n",
      "3 ['game', 'year', 'new', 'world', 'way', 'people', 'console', 'player', 'like', 'forward']\n",
      "4 ['game', 'time', 'like', 'experience', 'gameplay', 'team', 'challenge', 'new', 'final', 'focusing']\n",
      "5 ['game', 'work', 'team', 'people', 'like', 'new', 'year', 'world', 'hero', 'getting']\n",
      "6 ['game', 'want', 'time', 'think', 'thing', 'lot', 'like', 'character', 'going', 'story']\n",
      "7 ['nintendo', 'switch', 'nintendo_switch', 'new', 'like', 'game', 'work', 'update', 'experience', 'continue']\n",
      "Cluster 1 topics:\n",
      "0 ['life', 'people', 'know', 'church', 'god', 'think', 'sister', 'brother', 'world', 'religious']\n",
      "1 ['life', 'woman', 'people', 'care', 'god', 'catholic', 'year', 'let', 'way', 'work']\n",
      "2 ['time', 'hope', 'thing', 'change', 'situation', 'church', 'people', 'good', 'life', 'lord']\n",
      "3 ['people', 'spirit', 'right', 'holy', 'god', 'word', 'want', 'holy_spirit', 'like', 'way']\n",
      "4 ['church', 'life', 'pope', 'human', 'world', 'need', 'institution', 'communion', 'word', 'day']\n",
      "5 ['people', 'church', 'heart', 'community', 'god', 'life', 'pray', 'faith', 'love', 'jesus']\n",
      "6 ['god', 'lord', 'people', 'time', 'country', 'good', 'today', 'want', 'child', 'gift']\n",
      "7 ['life', 'time', 'people', 'new', 'jesus', 'christ', 'day', 'need', 'state', 'god']\n",
      "Cluster 2 topics:\n",
      "0 ['people', 'going', 'want', 'know', 'change', 'like', 'thing', 'life', 'party', 'way']\n",
      "1 ['time', 'like', 'ireland', 'need', 'support', 'business', 'know', 'action', 'economic', 'going']\n",
      "2 ['government', 'year', 'party', 'think', 'fine', 'people', 'election', 'sinn', 'week', 'fianna']\n",
      "3 ['people', 'need', 'health', 'public', 'state', 'ireland', 'government', 'home', 'united', 'family']\n",
      "4 ['time', 'think', 'bit', 'game', 'love', 'lot', 'little', 'like', 'happy', 'great']\n",
      "5 ['time', 'right', 'think', 'people', 'like', 'new', 'going', 'need', 'country', 'know']\n",
      "6 ['good', 'player', 'team', 'game', 'look', 'great', 'year', 'forward', 'want', 'work']\n",
      "7 ['point', 'think', 'thing', 'country', 'way', 'need', 'year', 'time', 'going', 'issue']\n",
      "Cluster 3 topics:\n",
      "0 ['want', 'game', 'win', 'play', 'going', 'think', 'know', 'player', 'team', 'season']\n",
      "1 ['united', 'work', 'club', 'forward', 'looking', 'football', 'manchester', 'hard', 'team', 'want']\n",
      "2 ['year', 'like', 'player', 'world', 'new', 'football', 'club', 'sport', 'great', 'stay']\n",
      "3 ['league', 'season', 'premier', 'premier_league', 'think', 'going', 'good', 'like', 'play', 'team']\n",
      "4 ['good', 'game', 'time', 'think', 'like', 'got', 'week', 'going', 'lot', 'team']\n",
      "5 ['little', 'bit', 'people', 'little_bit', 'think', 'time', 'thing', 'team', 'family', 'right']\n",
      "6 ['player', 'game', 'goal', 'good', 'need', 'team', 'play', 'great', 'lot', 'think']\n",
      "7 ['player', 'people', 'know', 'time', 'think', 'term', 'like', 'club', 'thing', 'going']\n",
      "Cluster 4 topics:\n",
      "0 ['good', 'think', 'lot', 'season', 'car', 'team', 'great', 'race', 'job', 'different']\n",
      "1 ['think', 'going', 'game', 'day', 'end', 'team', 'year', 'point', 'season', 'player']\n",
      "2 ['way', 'great', 'going', 'think', 'time', 'look', 'got', 'thing', 'race', 'like']\n",
      "3 ['like', 'guy', 'feel', 'right', 'good', 'game', 'feel_like', 'win', 'want', 'think']\n",
      "4 ['play', 'year', 'going', 'think', 'got', 'team', 'game', 'time', 'player', 'better']\n",
      "5 ['lot', 'team', 'going', 'people', 'think', 'know', 'want', 'player', 'time', 'great']\n",
      "6 ['year', 'good', 'team', 'car', 'want', 'looking', 'forward', 'race', 'track', 'looking_forward']\n",
      "7 ['going', 'time', 'like', 'little', 'know', 'got', 'game', 'bit', 'think', 'little_bit']\n",
      "Cluster 5 topics:\n",
      "0 ['team', 'got', 'going', 'know', 'like', 'nfl', 'look', 'game', 'lot', 'great']\n",
      "1 ['good', 'player', 'play', 'lot', 'think', 'year', 'got', 'hard', 'game', 'best']\n",
      "2 ['going', 'think', 'know', 'year', 'time', 'got', 'guy', 'day', 'player', 'right']\n",
      "3 ['like', 'feel', 'little', 'bit', 'team', 'new', 'little_bit', 'feel_like', 'different', 'going']\n",
      "4 ['play', 'right', 'great', 'player', 'season', 'way', 'team', 'think', 'thing', 'best']\n",
      "5 ['guy', 'like', 'game', 'look', 'people', 'player', 'hall', 'think', 'team', 'getting']\n",
      "6 ['like', 'want', 'guy', 'game', 'good', 'think', 'thing', 'going', 'lot', 'way']\n",
      "7 ['year', 'game', 'great', 'time', 'people', 'like', 'guy', 'want', 'know', 'work']\n",
      "Cluster 6 topics:\n",
      "0 ['love', 'thing', 'life', 'child', 'think', 'people', 'kid', 'good', 'man', 'best']\n",
      "1 ['people', 'life', 'story', 'world', 'want', 'woman', 'real', 'way', 'tell', 'think']\n",
      "2 ['family', 'time', 'people', 'help', 'need', 'bit', 'question', 'money', 'little', 'going']\n",
      "3 ['like', 'know', 'think', 'going', 'thing', 'time', 'people', 'got', 'feel', 'want']\n",
      "4 ['home', 'stay', 'month', 'away', 'safe', 'week', 'right', 'decision', 'day', 'hand']\n",
      "5 ['like', 'day', 'look', 'got', 'little', 'face', 'best', 'hair', 'time', 'trying']\n",
      "6 ['year', 'old', 'woman', 'film', 'kobe', 'year_old', 'ago', 'proud', 'year_ago', 'time']\n",
      "7 ['love', 'new', 'song', 'music', 'film', 'movie', 'happy', 'fan', 'year', 'excited']\n",
      "Cluster 7 topics:\n",
      "0 ['going', 'think', 'like', 'good', 'got', 'time', 'year', 'know', 'game', 'people']\n",
      "1 ['people', 'time', 'family', 'health', 'community', 'child', 'australian', 'need', 'school', 'risk']\n",
      "2 ['community', 'change', 'people', 'decision', 'need', 'climate', 'way', 'sport', 'like', 'woman']\n",
      "3 ['people', 'looking', 'day', 'like', 'time', 'want', 'home', 'able', 'rest', 'haven']\n",
      "4 ['people', 'cent', 'want', 'year', 'work', 'area', 'home', 'party', 'time', 'drought']\n",
      "5 ['business', 'people', 'life', 'job', 'want', 'help', 'small', 'right', 'save', 'economy']\n",
      "6 ['people', 'need', 'virus', 'case', 'coronavirus', 'spread', 'time', 'number', 'right', 'home']\n",
      "7 ['government', 'need', 'support', 'australian', 'state', 'work', 'advice', 'ensure', 'health', 'continue']\n",
      "Cluster 8 topics:\n",
      "0 ['time', 'right', 'think', 'way', 'party', 'year', 'got', 'come', 'people', 'forward']\n",
      "1 ['time', 'year', 'business', 'country', 'new', 'government', 'want', 'need', 'right', 'people']\n",
      "2 ['child', 'work', 'school', 'support', 'year', 'people', 'government', 'country', 'help', 'family']\n",
      "3 ['people', 'virus', 'health', 'risk', 'measure', 'public', 'need', 'spread', 'advice', 'continue']\n",
      "4 ['game', 'think', 'going', 'player', 'good', 'like', 'play', 'team', 'know', 'thing']\n",
      "5 ['people', 'going', 'case', 'loved', 'family', 'need', 'one', 'question', 'like', 'man']\n",
      "6 ['people', 'need', 'nh', 'support', 'want', 'life', 'minister', 'government', 'care', 'family']\n",
      "7 ['government', 'people', 'fine', 'know', 'life', 'love', 'look', 'change', 'sinn', 'like']\n",
      "Cluster 9 topics:\n",
      "0 ['people', 'health', 'africa', 'country', 'like', 'year', 'covid', 'work', 'public', 'life']\n",
      "1 ['need', 'customer', 'new', 'child', 'country', 'world', 'important', 'data', 'help', 'future']\n",
      "2 ['new', 'world', 'treatment', 'life', 'study', 'patient', 'help', 'planet', 'way', 'important']\n",
      "3 ['people', 'time', 'virus', 'know', 'need', 'country', 'case', 'like', 'test', 'spread']\n",
      "4 ['year', 'day', 'patient', 'like', 'world', 'help', 'change', 'better', 'way', 'case']\n",
      "5 ['time', 'way', 'like', 'little', 'know', 'going', 'long', 'term', 'year', 'new']\n",
      "6 ['people', 'new', 'time', 'virus', 'need', 'like', 'human', 'potential', 'disease', 'year']\n",
      "7 ['woman', 'year', 'high', 'study', 'cell', 'think', 'change', 'need', 'human', 'new']\n",
      "Cluster 10 topics:\n",
      "0 ['people', 'president', 'time', 'need', 'trump', 'american', 'state', 'life', 'woman', 'world']\n",
      "1 ['going', 'think', 'guy', 'good', 'want', 'lot', 'time', 'people', 'year', 'thing']\n",
      "2 ['health', 'people', 'need', 'covid', 'public', 'school', 'new', 'business', 'work', 'care']\n",
      "3 ['state', 'need', 'housing', 'california', 'community', 'crisis', 'people', 'time', 'health', 'city']\n",
      "4 ['going', 'time', 'world', 'know', 'great', 'think', 'year', 'people', 'fan', 'got']\n",
      "5 ['like', 'thing', 'want', 'lot', 'feel', 'year', 'people', 'got', 'right', 'play']\n",
      "6 ['new', 'people', 'year', 'public', 'work', 'experience', 'want', 'technology', 'opportunity', 'help']\n",
      "7 ['think', 'know', 'going', 'like', 'people', 'way', 'thing', 'time', 'game', 'good']\n",
      "Cluster 11 topics:\n",
      "0 ['india', 'country', 'new', 'world', 'china', 'need', 'indian', 'global', 'economy', 'year']\n",
      "1 ['government', 'state', 'court', 'case', 'taken', 'law', 'act', 'decision', 'national', 'police']\n",
      "2 ['student', 'pakistan', 'violence', 'police', 'hai', 'delhi', 'muslim', 'gandhi', 'hindu', 'attack']\n",
      "3 ['think', 'people', 'like', 'time', 'thing', 'film', 'want', 'know', 'going', 'lot']\n",
      "4 ['people', 'government', 'bjp', 'party', 'state', 'country', 'delhi', 'congress', 'caa', 'crore']\n",
      "5 ['life', 'year', 'love', 'woman', 'family', 'india', 'day', 'happy', 'great', 'world']\n",
      "6 ['team', 'game', 'good', 'play', 'player', 'cricket', 'time', 'world', 'think', 'going']\n",
      "7 ['minister', 'people', 'home', 'prime', 'health', 'covid', 'coronavirus', 'prime_minister', 'stay', 'day']\n",
      "Cluster 12 topics:\n",
      "0 ['term', 'president', 'time', 'long', 'trump', 'country', 'action', 'way', 'canadian', 'long_term']\n",
      "1 ['people', 'home', 'stay', 'life', 'time', 'think', 'country', 'want', 'canadian', 'risk']\n",
      "2 ['government', 'need', 'canadian', 'public', 'want', 'health', 'canada', 'decision', 'people', 'sure']\n",
      "3 ['state', 'united', 'law', 'united_state', 'iran', 'student', 'family', 'investigation', 'union', 'government']\n"
     ]
    },
    {
     "name": "stdout",
     "output_type": "stream",
     "text": [
      "4 ['need', 'health', 'care', 'case', 'covid', 'virus', 'measure', 'community', 'people', 'service']\n",
      "5 ['game', 'team', 'play', 'year', 'great', 'player', 'got', 'going', 'good', 'think']\n",
      "6 ['help', 'community', 'family', 'people', 'child', 'opportunity', 'time', 'support', 'business', 'work']\n",
      "7 ['going', 'thing', 'think', 'know', 'like', 'lot', 'time', 'people', 'way', 'little']\n",
      "Cluster 13 topics:\n",
      "0 ['people', 'new', 'state', 'work', 'home', 'new_yorkers', 'yorkers', 'social', 'time', 'law']\n",
      "1 ['new', 'need', 'york', 'new_york', 'state', 'people', 'community', 'health', 'test', 'going']\n",
      "2 ['new', 'york', 'new_york', 'people', 'time', 'little', 'year', 'help', 'city', 'going']\n",
      "3 ['think', 'time', 'going', 'want', 'right', 'thing', 'new', 'way', 'people', 'need']\n",
      "4 ['people', 'federal', 'state', 'government', 'health', 'time', 'life', 'going', 'president', 'ventilator']\n",
      "5 ['people', 'year', 'know', 'lot', 'getting', 'number', 'need', 'good', 'want', 'got']\n",
      "6 ['like', 'going', 'day', 'life', 'people', 'way', 'time', 'game', 'good', 'know']\n",
      "7 ['going', 'new', 'state', 'safety', 'public', 'city', 'case', 'think', 'long', 'time']\n",
      "Cluster 14 topics:\n",
      "0 ['people', 'million', 'number', 'money', 'american', 'want', 'going', 'think', 'country', 'need']\n",
      "1 ['new', 'going', 'think', 'city', 'campaign', 'win', 'party', 'year', 'election', 'candidate']\n",
      "2 ['health', 'public', 'need', 'care', 'state', 'help', 'family', 'people', 'community', 'safety']\n",
      "3 ['government', 'american', 'people', 'right', 'country', 'life', 'support', 'nation', 'change', 'need']\n",
      "4 ['president', 'trump', 'state', 'united', 'united_state', 'war', 'law', 'iran', 'donald', 'american']\n",
      "5 ['stay', 'home', 'trial', 'senate', 'vote', 'people', 'week', 'want', 'house', 'impeachment']\n",
      "6 ['going', 'think', 'like', 'thing', 'know', 'people', 'time', 'good', 'want', 'year']\n",
      "7 ['virus', 'business', 'coronavirus', 'time', 'spread', 'case', 'covid', 'china', 'test', 'social']\n"
     ]
    }
   ],
   "source": [
    "for i in range(n_clusters):\n",
    "    print(f'Cluster {i} topics:')\n",
    "    model_topics(load_model(f'cluster-{i}'))"
   ]
  },
  {
   "cell_type": "code",
   "execution_count": null,
   "metadata": {},
   "outputs": [],
   "source": []
  }
 ],
 "metadata": {
  "kernelspec": {
   "display_name": "Python 3 (ipykernel)",
   "language": "python",
   "name": "python3"
  },
  "language_info": {
   "codemirror_mode": {
    "name": "ipython",
    "version": 3
   },
   "file_extension": ".py",
   "mimetype": "text/x-python",
   "name": "python",
   "nbconvert_exporter": "python",
   "pygments_lexer": "ipython3",
   "version": "3.8.12"
  }
 },
 "nbformat": 4,
 "nbformat_minor": 4
}
